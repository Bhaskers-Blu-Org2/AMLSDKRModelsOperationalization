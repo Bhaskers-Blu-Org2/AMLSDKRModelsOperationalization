{
 "cells": [
  {
   "cell_type": "markdown",
   "metadata": {},
   "source": [
    "### Copyright (C) Microsoft Corporation.  \n",
    "  \n",
    "# Deploy regular ML R model in Azure AKS/ACI using AML SDK\n",
    "Purpose: Before operationalization, we show how to develop and test the containerized scripts (o16n python script that invokes the user provided R scoring script).  \n",
    "  \n",
    "#### Authors\n",
    "\n",
    "* **George Iordanescu** - *Initial work* - [Microsoft AI CAT](https://github.com/Azure/o16nRegularMLRmodelsUsingAzurek8s)\n",
    "\n",
    "See also the list of [contributors](https://github.com/Azure/o16nRegularMLRmodelsUsingAzurek8s/contributors) who participated in this project.  \n",
    "   \n",
    "This notebook can be run in an AML SDK container on windows or linux:  \n",
    "__on windows__:\n",
    "```\n",
    "(base) C:\\Users\\ghiordan\\Documents>cd C:\\repos\\o16n_regular_ML_R_models_using_Azure_k8s\n",
    "#docker run -it --volume %cd%:/workspace georgedockeraccount/aml-sdk_docker_image:sdk.v.1.0.17  /bin/bash\n",
    "docker run -it -p 9001:8888 -v %cd%:/workspace georgedockeraccount/aml-sdk_docker_image:sdk.v.1.0.17 /bin/bash -c \"jupyter notebook --notebook-dir=/workspace --ip=0.0.0.0 --port=8888 --no-browser --allow-root\"  \n",
    "  \n",
    "# and then point local browser to:  \n",
    "http://localhost:9001/?token=securitytoken_printed_by_jupyter_session_started_above\n",
    "```\n",
    "__on an Azure Linux VM (with port 9001 opened for Jupyter notebook server) named [yourVM]__:\n",
    "```\n",
    "[your_login_info]@[yourVM]:/repos/o16nRegularMLRmodelsUsingAzurek8s$ docker run -it -p 9001:8888 -v /datadrive01/prj/o16nRegularMLRmodelsUsingAzurek8s/:/workspace:rw georgedockeraccount/aml-sdk_docker_image:sdk.v.1.0.17 /bin/bash -c \"jupyter notebook --notebook-dir=/workspace --ip=0.0.0.0 --port=8888 --no-browser --allow-root\"  \n",
    "   \n",
    "# and then point local browser to:  \n",
    "[yourVM].eastus2.cloudapp.azure.com:9001/?token=eeb532b4481b8aa0dcee646c72f48a6dc162a38fb314be9d  \n",
    "```\n",
    "\n",
    "Here we use the experimentation (__e13n__) infrastructure in AML SDK to build a docker image and test score.py script. This docker image alows running R code from python and is the closest proxy to the operationalization (__o16n__) docker image one will get in the next notebooks, where we operationalize the R model. The created docker image is __not__ identical to the o16n image because AML SDK does not allow BYOD (bring your own docker) scenario yet.\n",
    "\n",
    "The score.py script is written in python, but it has an R session created via rpy2. The R model is run via four interactions with an R session:\n",
    " - The init() function in score.py passes the R model file name to the R session which then loads the R model.  \n",
    " - The run() function in score.py passes the jsoned data to be scored to the R session with the model loaded above. jsoned data to be scored are then used with a full R scoring script using rpy2.robjects.r().  \n",
    "\n",
    "Main steps:  \n",
    "* Run score.py script (and the real R scoring script) in a docker image.\n",
    "* Create artifacts for deployment:   \n",
    "  - scoring script file in the project folder (variable __score_script_filename__)  \n",
    "  - conda dependency file (adds R and desired packages to the base docker image)\n",
    "\n",
    "* This covers strictly post e13n steps, so it assumes the existence of R model file (saved as an rds file on disk). This will be registered here so that we can use Model.get_model_path() function inside the init() funstion of the scoring script. See [this](https://github.com/Azure/ViennaDocs/blob/master/PrivatePreview/docs/get_model_path.md) for details about encapsulating the model path in the 016n docker image."
   ]
  },
  {
   "cell_type": "code",
   "execution_count": 1,
   "metadata": {},
   "outputs": [],
   "source": [
    "# Allow multiple displays per cell\n",
    "from IPython.core.interactiveshell import InteractiveShell\n",
    "InteractiveShell.ast_node_interactivity = \"all\""
   ]
  },
  {
   "cell_type": "markdown",
   "metadata": {},
   "source": [
    "#### Check core SDK version number"
   ]
  },
  {
   "cell_type": "code",
   "execution_count": 2,
   "metadata": {
    "scrolled": true
   },
   "outputs": [
    {
     "name": "stdout",
     "output_type": "stream",
     "text": [
      "SDK version: 1.0.17\n"
     ]
    },
    {
     "data": {
      "text/plain": [
       "'/opt/conda/envs/aml-sdk-conda-env/lib/python3.6/site-packages/azureml/__init__.py'"
      ]
     },
     "execution_count": 2,
     "metadata": {},
     "output_type": "execute_result"
    },
    {
     "data": {
      "text/plain": [
       "'Linux-4.9.125-linuxkit-x86_64-with-debian-9.5'"
      ]
     },
     "execution_count": 2,
     "metadata": {},
     "output_type": "execute_result"
    },
    {
     "data": {
      "text/plain": [
       "'/workspace/code/amlsdk_operationalization'"
      ]
     },
     "execution_count": 2,
     "metadata": {},
     "output_type": "execute_result"
    }
   ],
   "source": [
    "# Check core SDK version number, os info and current wd\n",
    "import azureml.core\n",
    "print(\"SDK version:\", azureml.core.VERSION)\n",
    "\n",
    "#azure ml files location\n",
    "azureml.__file__\n",
    "\n",
    "import platform\n",
    "platform.platform()\n",
    "\n",
    "import os\n",
    "os.getcwd()"
   ]
  },
  {
   "cell_type": "code",
   "execution_count": 3,
   "metadata": {},
   "outputs": [
    {
     "data": {
      "text/plain": [
       "[None]"
      ]
     },
     "execution_count": 3,
     "metadata": {},
     "output_type": "execute_result"
    }
   ],
   "source": [
    "# import utility functions like project config params\n",
    "\n",
    "import sys, os\n",
    "\n",
    "def add_path_to_sys_path(path_to_append):\n",
    "    if not (any(path_to_append in paths for paths in sys.path)):\n",
    "        sys.path.append(path_to_append)\n",
    "\n",
    "auxiliary_files_dir = os.path.join(*(['.', 'src']))\n",
    "\n",
    "paths_to_append = [os.path.join(os.getcwd(), auxiliary_files_dir)]\n",
    "[add_path_to_sys_path(crt_path) for crt_path in paths_to_append]\n",
    "\n",
    "import o16n_regular_ML_R_models_utils\n",
    "prj_consts = o16n_regular_ML_R_models_utils.o16n_regular_ML_R_models_consts()"
   ]
  },
  {
   "cell_type": "markdown",
   "metadata": {},
   "source": [
    "### use existing dotenv file (created in previous notebook) to load sensitive info"
   ]
  },
  {
   "cell_type": "code",
   "execution_count": 4,
   "metadata": {},
   "outputs": [
    {
     "data": {
      "text/plain": [
       "'../../not_shared/general.env'"
      ]
     },
     "execution_count": 4,
     "metadata": {},
     "output_type": "execute_result"
    }
   ],
   "source": [
    "%load_ext dotenv\n",
    "dotenv_file_path = os.path.join(*(prj_consts.DOTENV_FILE_PATH))\n",
    "\n",
    "#show .env file path\n",
    "dotenv_file_path"
   ]
  },
  {
   "cell_type": "markdown",
   "metadata": {},
   "source": [
    "#### Define filename and directory variables\n"
   ]
  },
  {
   "cell_type": "code",
   "execution_count": 5,
   "metadata": {},
   "outputs": [
    {
     "data": {
      "text/plain": [
       "'../../not_shared'"
      ]
     },
     "execution_count": 5,
     "metadata": {},
     "output_type": "execute_result"
    },
    {
     "data": {
      "text/plain": [
       "30"
      ]
     },
     "execution_count": 5,
     "metadata": {},
     "output_type": "execute_result"
    },
    {
     "name": "stdout",
     "output_type": "stream",
     "text": [
      "Will o16n R model from directory /workspace/code/amlsdk_operationalization/../R_experimentation\n"
     ]
    }
   ],
   "source": [
    "r_model_file_name = prj_consts.R_MODEL_FILE_NAME\n",
    "r_model_AML_name = prj_consts.R_MODEL_AML_NAME\n",
    "conda_dependencies_filename = prj_consts.R_MODEL_CONDA_DEPENDENCIES_FILE_NAME\n",
    "score_script_filename = prj_consts.SCORE_SCRIPT_FILE_NAME\n",
    "experiment_name = 'ghiordan_test_R_scoring_script'\n",
    "\n",
    "workspace_config_dir = os.path.join(*(prj_consts.AML_WORKSPACE_CONFIG_DIR))\n",
    "workspace_config_file = prj_consts.AML_WORKSPACE_CONFIG_FILE_NAME\n",
    "workspace_config_dir\n",
    "\n",
    "experiment_dir = os.path.join(*(prj_consts.AML_EXPERIMENT_DIR))\n",
    "crt_dir = os.path.join(os.getcwd(), os.path.join(*([experiment_dir])))\n",
    "if not (os.path.isdir(crt_dir)): os.mkdir(crt_dir) \n",
    "\n",
    "# make sure exp name is within required limits\n",
    "len(experiment_name)\n",
    "\n",
    "R_artifacts_dir = os.path.join(os.getcwd(), os.path.join(*(prj_consts.R_MODEL_DIR)))\n",
    "print('Will o16n R model from directory {}'.format(R_artifacts_dir))"
   ]
  },
  {
   "cell_type": "markdown",
   "metadata": {},
   "source": [
    "#### Use the AML SDK workspace (ws) created and documented as a json file in previous notebook\n",
    "\n",
    "Initialize a workspace object from persisted configuration."
   ]
  },
  {
   "cell_type": "code",
   "execution_count": 6,
   "metadata": {},
   "outputs": [
    {
     "name": "stdout",
     "output_type": "stream",
     "text": [
      "Found the config file in: /workspace/not_shared/aml_config/aml_ws_config.json\n",
      "ghiordanregularrrealtimews\n",
      "ghiordanRo16n1rsg02\n",
      "eastus2\n",
      "e\n"
     ]
    }
   ],
   "source": [
    "from azureml.core import Workspace\n",
    "\n",
    "# path arg is:\n",
    "#   - a file path which explictly lists aml_config subdir for function from_config() \n",
    "#   - a dir path with a silently added <<aml_config>> subdir for function write_config(). \n",
    "ws = Workspace.from_config(path=os.path.join(os.getcwd(), \n",
    "                                             os.path.join(*([workspace_config_dir, 'aml_config', workspace_config_file]))))\n",
    "print(ws.name, ws.resource_group, ws.location, ws.subscription_id[0], sep = '\\n')"
   ]
  },
  {
   "cell_type": "markdown",
   "metadata": {},
   "source": [
    "## Register Model\n",
    "\n",
    "You can add tags and descriptions to your models. Note you do not need to have the r model .rds file in the current directory.  The below call registers that file in the workspace as a model with name defined by __r_model_AML_name__ variable.  \n",
    "  \n",
    "Using tags, you can track useful information such as the name and version of the machine learning library used to train the model. Note that tags must be alphanumeric."
   ]
  },
  {
   "cell_type": "code",
   "execution_count": 7,
   "metadata": {},
   "outputs": [
    {
     "name": "stdout",
     "output_type": "stream",
     "text": [
      "-rwxr-xr-x 1 root root 19041 Jul 25  2018 /workspace/code/amlsdk_operationalization/../R_experimentation/ksvm_model01.rds\r\n"
     ]
    }
   ],
   "source": [
    "#show model exists at the expected location \n",
    "!ls -l {os.path.join(R_artifacts_dir, r_model_file_name)}"
   ]
  },
  {
   "cell_type": "code",
   "execution_count": 8,
   "metadata": {},
   "outputs": [
    {
     "name": "stdout",
     "output_type": "stream",
     "text": [
      "Registering model trained_r_model\n",
      "trained_r_model\tmy R model\t1\t{'language': 'R', 'type': 'TC_kSVM'}\n"
     ]
    }
   ],
   "source": [
    "from azureml.core.model import Model\n",
    "register_model = True\n",
    "if register_model:\n",
    "    model = Model.register(model_path = os.path.join(R_artifacts_dir, r_model_file_name),\n",
    "                           model_name = r_model_AML_name,\n",
    "                           tags = {'language': 'R', 'type': 'TC_kSVM'},\n",
    "                           description = 'my R model',\n",
    "                           workspace = ws)\n",
    "    \n",
    "    print(model.name, model.description, model.version, model.tags, sep = '\\t')"
   ]
  },
  {
   "cell_type": "markdown",
   "metadata": {},
   "source": [
    "You can explore the registered models within your workspace and query by tag. Models are versioned. If you call the register_model command many times with same model name, you will get multiple versions of the model with increasing version numbers.   \n",
    "\n",
    "For demo purposes, we choose v1 as the model used for deployment."
   ]
  },
  {
   "cell_type": "code",
   "execution_count": 9,
   "metadata": {},
   "outputs": [
    {
     "name": "stdout",
     "output_type": "stream",
     "text": [
      "Name: trained_r_model \tVersion: 1 \tDescription: my R model {'language': 'R', 'type': 'TC_kSVM'}\n"
     ]
    }
   ],
   "source": [
    "best_r_model = None\n",
    "\n",
    "for m in Model.list(ws, tags={'type': 'TC_kSVM'}):\n",
    "# for m in r_models:\n",
    "    print(\"Name:\", m.name,\"\\tVersion:\", m.version, \"\\tDescription:\", m.description, m.tags)\n",
    "    if ((m.name==r_model_AML_name) and (m.version==1) and (m.description=='my R model')):\n",
    "        best_r_model = m"
   ]
  },
  {
   "cell_type": "code",
   "execution_count": 10,
   "metadata": {},
   "outputs": [
    {
     "name": "stdout",
     "output_type": "stream",
     "text": [
      "trained_r_model\tmy R model\t1\n"
     ]
    }
   ],
   "source": [
    "print(best_r_model.name, best_r_model.description, best_r_model.version, sep = '\\t')"
   ]
  },
  {
   "cell_type": "markdown",
   "metadata": {},
   "source": [
    "## Create Experiment\n"
   ]
  },
  {
   "cell_type": "code",
   "execution_count": 11,
   "metadata": {},
   "outputs": [],
   "source": [
    "from azureml.core import Experiment\n",
    "\n",
    "exp = Experiment(workspace = ws, name = experiment_name)"
   ]
  },
  {
   "cell_type": "markdown",
   "metadata": {},
   "source": [
    "## Create info for the VM compute target"
   ]
  },
  {
   "cell_type": "markdown",
   "metadata": {},
   "source": [
    "Attach a remote Linux VM. This is usually used as a remote docker commpute target for experimentation, but we are using it here to test our dockerized score script used for deploymnet. \n",
    "Create a Linux DSVM in Azure. Make sure you use the Ubuntu flavor, NOT CentOS.      "
   ]
  },
  {
   "cell_type": "code",
   "execution_count": 12,
   "metadata": {},
   "outputs": [],
   "source": [
    "compute_target_name = 'ghiordanXRgpuvm'"
   ]
  },
  {
   "cell_type": "code",
   "execution_count": 13,
   "metadata": {},
   "outputs": [
    {
     "name": "stdout",
     "output_type": "stream",
     "text": [
      "SucceededProvisioning operation finished, operation \"Succeeded\"\n"
     ]
    }
   ],
   "source": [
    "%dotenv  $dotenv_file_path\n",
    "\n",
    "from azureml.core.compute import ComputeTarget, RemoteCompute \n",
    "attach_config = RemoteCompute.attach_configuration(address=os.getenv('COMPUTE_CONTEXT_VM_FQDN'),\n",
    "                                                   ssh_port=os.getenv('COMPUTE_CONTEXT_VM_SSH_PORT'),\n",
    "                                                   username=os.getenv('COMPUTE_CONTEXT_VM_USER_NAME'),\n",
    "                                                   password=os.getenv('COMPUTE_CONTEXT_VM_PWD')\n",
    "                                                   # If using ssh key\n",
    "                                                   #private_key_file=\"path_to_a_file\",\n",
    "                                                   #private_key_passphrase=\"some_key_phrase\"\n",
    "                                                  )\n",
    "attached_dsvm_compute = ComputeTarget.attach(workspace=ws, name=compute_target_name, attach_configuration=attach_config)\n",
    "\n",
    "attached_dsvm_compute.wait_for_completion(show_output=True)   "
   ]
  },
  {
   "cell_type": "code",
   "execution_count": 14,
   "metadata": {},
   "outputs": [
    {
     "name": "stdout",
     "output_type": "stream",
     "text": [
      "ghiordanXRgpuvm VirtualMachine ghiordanxray05vm.eastus.cloudapp.azure.com\n"
     ]
    }
   ],
   "source": [
    "# see if the compute target exists in the workspace\n",
    "\n",
    "from azureml.core.compute import DsvmCompute\n",
    "\n",
    "for crt_dsvm in DsvmCompute.list(ws):\n",
    "    if (compute_target_name==crt_dsvm.name):    \n",
    "        print(crt_dsvm.name, crt_dsvm.type, crt_dsvm.address)\n",
    "    else:\n",
    "        print(crt_dsvm.name, crt_dsvm.type)"
   ]
  },
  {
   "cell_type": "markdown",
   "metadata": {},
   "source": [
    "## Create scoring script\n",
    "\n",
    "Use `%%writefile` magic to write o16n `score.py` file  that embeds the user-prvided R scoring script."
   ]
  },
  {
   "cell_type": "code",
   "execution_count": 15,
   "metadata": {},
   "outputs": [
    {
     "name": "stdout",
     "output_type": "stream",
     "text": [
      "Overwriting ../../temp/score_script.py\n"
     ]
    }
   ],
   "source": [
    "%%writefile {os.path.join(experiment_dir, score_script_filename)} \n",
    "\n",
    "\n",
    "import pickle\n",
    "import json\n",
    "from azureml.core.model import Model\n",
    "import rpy2\n",
    "import rpy2.robjects as robjects\n",
    "import timeit\n",
    "import logging\n",
    "\n",
    "R_MODEL_AML_NAME = 'trained_r_model'\n",
    "\n",
    "\n",
    "def init():\n",
    "    from rpy2.rinterface import R_VERSION_BUILD\n",
    "    print('rpy2 version {};  R version {}'.format(rpy2.__version__, R_VERSION_BUILD))\n",
    "    \n",
    "    print('R model AML name: {}'.format(Model.get_model_path(model_name='trained_r_model')))\n",
    "    \n",
    "    global model\n",
    "    # note here \"best_model\" is the name of the model registered under the workspace\n",
    "    # this call should return the path to the model.pkl file on the local disk.\n",
    "    model_path = Model.get_model_path(model_name =  'trained_r_model')\n",
    "    # deserialize the model file back into a sklearn model\n",
    "    robjects.globalenv['model_path'] = model_path    \n",
    "    # model_path = robjects.StrVector( 'ksvm_model.rds')\n",
    "    robjects.r('''\n",
    "            format_proc_time <- function(proc_time_diff){\n",
    "                \n",
    "                as.data.frame(t(as.matrix(format(round(proc_time_diff*1000, 2), nsmall = 2))))[, \n",
    "                                                            c('user.self', 'sys.self', 'elapsed')]\n",
    "            }\n",
    "            library(kernlab)\n",
    "            library(jsonlite)\n",
    "            svm_model = readRDS({model_path})\n",
    "            ''')\n",
    "    print('AML o16n init() function: SVM model loaded.')\n",
    "\n",
    "# note you can pass in multiple rows for scoring\n",
    "def run(aml_jsoned_data):\n",
    "    logger = logging.getLogger(\"AML_o16n_run_function\")\n",
    "#     print('Entering run() function')\n",
    "    try:\n",
    "        start_time = timeit.default_timer()\n",
    "#         data = json.loads(raw_data)['data']\n",
    "        data = json.loads(aml_jsoned_data)['data']\n",
    "        robjects.globalenv['r_data_to_score'] = data  \n",
    "        python_to_R_time = timeit.default_timer()\n",
    "        r_messages = robjects.r('''\n",
    "                start_time_r = proc.time()\n",
    "                \n",
    "                r_data_to_score=jsonlite::fromJSON(r_data_to_score[[1]])\n",
    "                json_to_df_time_r = proc.time()\n",
    "                \n",
    "                scores = kernlab::predict(svm_model,r_data_to_score, type = \"p\")\n",
    "                end_time_r = proc.time()\n",
    "                \n",
    "                # report total time and json to df time\n",
    "                time_df = rbind(format_proc_time(end_time_r - start_time_r),\n",
    "                                format_proc_time(json_to_df_time_r - start_time_r))\n",
    "                rownames(time_df)=c('all_r_time','json_to_df_time')    \n",
    "                \n",
    "                # combine scores and time dataframes in a list\n",
    "                returned_list = list(as.data.frame(scores),time_df)\n",
    "                names(returned_list)=c('r_scores', 'r_times')\n",
    "                \n",
    "                scores = jsonlite::toJSON(returned_list)\n",
    "                #print('Exiting R.')\n",
    "                ''')\n",
    "        before_R_to_python_time = timeit.default_timer()\n",
    "        \n",
    "        jsoned_scores = (robjects.r['scores'])[0]\n",
    "        end_time = timeit.default_timer()\n",
    "        \n",
    "#         logger.info(\"Predictions: {0}\".format(jsoned_scores))\n",
    "#         print('Exiting run() function')\n",
    "        return json.dumps({'python_scores': jsoned_scores, \n",
    "                           'python_times': json.dumps(\n",
    "                               {'all_p_time':'{} ms'.format(round((end_time-start_time)*1000, 2)),\n",
    "                                           'python_to_R_time':'{} ms'.format(round((python_to_R_time-start_time)*1000, 2)),\n",
    "                                           'R_to_python_time':'{} ms'.format(round((end_time-before_R_to_python_time)*1000, 2))}\n",
    "                           )\n",
    "                          })\n",
    "\n",
    "    except Exception as e:\n",
    "        result = str(e)\n",
    "        return json.dumps({\"AML o16n run() function: error\": result})\n",
    "    \n",
    "def main():\n",
    "    import numpy as np\n",
    "    import pandas as pd\n",
    "    \n",
    "    n_samples = 100\n",
    "\n",
    "    raw_data = 2 * np.random.random_sample((n_samples, 2)) - 1\n",
    "    aml_jsoned_data =  json.dumps({'data': json.dumps(raw_data.tolist())})\n",
    "  \n",
    "    init()\n",
    "    response = run(aml_jsoned_data)\n",
    "#     print(json.loads(response))\n",
    "#     print( json.loads(json.loads(response)['python_scores']) )\n",
    "    \n",
    "    print( pd.DataFrame.from_records(json.loads(json.loads(response)['python_scores'])['r_scores']) )\n",
    "    print( pd.DataFrame.from_records(json.loads(json.loads(response)['python_scores'])['r_times']) )\n",
    "    for k, v in json.loads(json.loads(response)['python_times']).items():\n",
    "        print(v, k)\n",
    "\n",
    "    print('Exited main() function')\n",
    "    \n",
    "if __name__== \"__main__\":\n",
    "    main()\n",
    "    "
   ]
  },
  {
   "cell_type": "markdown",
   "metadata": {},
   "source": [
    "## Configure a Docker run with new conda environment on the VM  \n",
    "You can execute in a Docker container in the VM. If you choose this route, you don't need to install anything on the VM yourself. Azure ML execution service will take care of it for you."
   ]
  },
  {
   "cell_type": "markdown",
   "metadata": {},
   "source": [
    "### Configure a run using a custom Docker  image & user-managed environment\n",
    "You can also build a custom Docker image, and execute script in it without building a new conda environment. The Docker file for the below `ninghai/azureml:0.3` image is simply using the `miniconda3` base image from Continuum.io, plus essential build tools, plus Azure ML SDK. This image is [hosted in Docker Hub](https://hub.docker.com/r/ninghai/azureml). But you can also host it in a private registry like ACR (Azure Container Registry).\n",
    "\n",
    "```dockerfile\n",
    "FROM continuumio/miniconda3\n",
    "RUN apt-get update && apt-get install -y build-essential\n",
    "RUN pip install --extra-index-url https://azuremlsdktestpypi.azureedge.net/sdk-release/rc/D72EBD8984244C659BDE1CFECDC3435 azureml-requirements\n",
    "```\n",
    "\n",
    "You can of course use the Dockerfile to install additional libraries that cannot be conda-installed or pip-installed."
   ]
  },
  {
   "cell_type": "code",
   "execution_count": 16,
   "metadata": {},
   "outputs": [
    {
     "name": "stdout",
     "output_type": "stream",
     "text": [
      "Base Docker image is: continuumio/miniconda3:4.5.12\n"
     ]
    }
   ],
   "source": [
    "from azureml.core.runconfig import RunConfiguration\n",
    "from azureml.core.conda_dependencies import CondaDependencies\n",
    "\n",
    "run_config = RunConfiguration(framework = \"python\")\n",
    "run_config.target = attached_dsvm_compute.name\n",
    "\n",
    "# Use Docker in the remote VM\n",
    "run_config.environment.docker.enabled = True\n",
    "\n",
    "run_config.environment.docker.base_image = 'continuumio/miniconda3:4.5.12'\n",
    "print('Base Docker image is:', run_config.environment.docker.base_image )\n",
    "\n",
    "# Ask system to provision a new one based on the conda_dependencies.yml file\n",
    "run_config.environment.python.user_managed_dependencies = False"
   ]
  },
  {
   "cell_type": "markdown",
   "metadata": {},
   "source": [
    "#### Below is the crux of the project:\n",
    "> Instead of install.packages() using a live R session, we use conda and pip install to add R and desired packages to a conda environment that will run in our docker container!"
   ]
  },
  {
   "cell_type": "code",
   "execution_count": 17,
   "metadata": {},
   "outputs": [],
   "source": [
    "# create the conda env yml file\n",
    "from azureml.core.conda_dependencies import CondaDependencies\n",
    "\n",
    "conda_dep = CondaDependencies()\n",
    "\n",
    "def add_conda_items(list_of_items, item_add_method):\n",
    "    for current_item in list_of_items:\n",
    "        item_add_method(current_item)\n",
    "    \n",
    "add_conda_items(['3.7.0'], getattr(conda_dep, 'set_python_version')) #'3.6.5' \n",
    "add_conda_items(['r', 'conda-forge', 'anaconda'], getattr(conda_dep, 'add_channel'))\n",
    "add_conda_items(['r-base', 'r-proc', 'r-jsonlite', 'r-kernlab', 'rpy2', 'pandas', 'gfortran_linux-64'], \n",
    "                getattr(conda_dep, 'add_conda_package')) #'rpy2==2.8.6'\n",
    "# add_conda_items(['some_pip_installable_R_package'], getattr(conda_dep, 'add_pip_package'))"
   ]
  },
  {
   "cell_type": "code",
   "execution_count": 18,
   "metadata": {
    "scrolled": true
   },
   "outputs": [
    {
     "data": {
      "text/plain": [
       "True"
      ]
     },
     "execution_count": 18,
     "metadata": {},
     "output_type": "execute_result"
    }
   ],
   "source": [
    "run_config.environment.docker.gpu_support = False\n",
    "run_config.environment.docker.shared_volumes"
   ]
  },
  {
   "cell_type": "markdown",
   "metadata": {},
   "source": [
    "#### For demo purposes we also show how a generic (i.e. not SDK created) conda env file can be used in SDK\n",
    "\n",
    "First show the content of the conda dep object above, so that we can create a clone of it."
   ]
  },
  {
   "cell_type": "code",
   "execution_count": 19,
   "metadata": {
    "scrolled": true
   },
   "outputs": [
    {
     "data": {
      "text/plain": [
       "'# Conda environment specification. The dependencies defined in this file will\\r\\n# be automatically provisioned for runs with userManagedDependencies=False.\\r\\n\\n# Details about the Conda environment file format:\\r\\n# https://conda.io/docs/user-guide/tasks/manage-environments.html#create-env-file-manually\\r\\n\\nname: project_environment\\ndependencies:\\n  # The python interpreter version.\\r\\n  # Currently Azure ML only supports 3.5.2 and later.\\r\\n- python=3.7.0\\n\\n- pip:\\n    # Required packages for AzureML execution, history, and data preparation.\\r\\n  - azureml-defaults\\n- r-base\\n- r-proc\\n- r-jsonlite\\n- r-kernlab\\n- rpy2\\n- pandas\\n- gfortran_linux-64\\nchannels:\\n- r\\n- conda-forge\\n- anaconda\\n'"
      ]
     },
     "execution_count": 19,
     "metadata": {},
     "output_type": "execute_result"
    },
    {
     "data": {
      "text/plain": [
       "'../../temp/conda_dependencies01.yml'"
      ]
     },
     "execution_count": 19,
     "metadata": {},
     "output_type": "execute_result"
    },
    {
     "name": "stdout",
     "output_type": "stream",
     "text": [
      "# Conda environment specification. The dependencies defined in this file will\r",
      "\r\n",
      "# be automatically provisioned for runs with userManagedDependencies=False.\r",
      "\r\n",
      "\r\n",
      "# Details about the Conda environment file format:\r",
      "\r\n",
      "# https://conda.io/docs/user-guide/tasks/manage-environments.html#create-env-file-manually\r",
      "\r\n",
      "\r\n",
      "name: project_environment\r\n",
      "dependencies:\r\n",
      "  # The python interpreter version.\r",
      "\r\n",
      "  # Currently Azure ML only supports 3.5.2 and later.\r",
      "\r\n",
      "- python=3.7.0\r\n",
      "\r\n",
      "- pip:\r\n",
      "    # Required packages for AzureML execution, history, and data preparation.\r",
      "\r\n",
      "  - azureml-defaults\r\n",
      "- r-base\r\n",
      "- r-proc\r\n",
      "- r-jsonlite\r\n",
      "- r-kernlab\r\n",
      "- rpy2\r\n",
      "- pandas\r\n",
      "- gfortran_linux-64\r\n",
      "channels:\r\n",
      "- r\r\n",
      "- conda-forge\r\n",
      "- anaconda\r\n"
     ]
    }
   ],
   "source": [
    "conda_dep.serialize_to_string()\n",
    "conda_dep.save_to_file(base_directory = os.getcwd() , \n",
    "                       conda_file_path=os.path.join(*[experiment_dir, conda_dependencies_filename]))\n",
    "! cat {os.path.join(os.getcwd(), os.path.join(*[experiment_dir, conda_dependencies_filename]))}\n",
    "\n",
    "not_SDK_created_conda_env_file = 'not_SDK_created_conda_env_file.yml'"
   ]
  },
  {
   "cell_type": "code",
   "execution_count": 20,
   "metadata": {},
   "outputs": [
    {
     "name": "stdout",
     "output_type": "stream",
     "text": [
      "Overwriting ./not_SDK_created_conda_env_file.yml\n"
     ]
    }
   ],
   "source": [
    "%%writefile ./{not_SDK_created_conda_env_file}\n",
    "\n",
    "name: ml_conda_env2\n",
    "\n",
    "channels:\n",
    "- r\n",
    "- conda-forge\n",
    "- anaconda\n",
    "\n",
    "dependencies:\n",
    "- python=3.7.0\n",
    "- r-base\n",
    "- r-proc\n",
    "- r-jsonlite\n",
    "- r-kernlab\n",
    "- rpy2\n",
    "- pandas\n",
    "- gfortran_linux-64\n",
    "- pip:\n",
    "    # Required packages for AzureML execution, history, and data preparation.\n",
    "  - azureml-defaults"
   ]
  },
  {
   "cell_type": "markdown",
   "metadata": {},
   "source": [
    "Now, one can use either of the commands below to set the conda dependencies either from a yml file, or from the CondaDependencies conda_dep object created in memory above "
   ]
  },
  {
   "cell_type": "code",
   "execution_count": 21,
   "metadata": {},
   "outputs": [],
   "source": [
    "# run_config.environment.python.conda_dependencies = CondaDependencies(not_SDK_created_conda_env_file)\n",
    "run_config.environment.python.conda_dependencies = conda_dep"
   ]
  },
  {
   "cell_type": "markdown",
   "metadata": {},
   "source": [
    "#### Script below can be used to replace proper score_script_filename, for debug purposes"
   ]
  },
  {
   "cell_type": "code",
   "execution_count": 22,
   "metadata": {},
   "outputs": [],
   "source": [
    "# %%writefile $experiment_dir/$score_script_filename \n",
    "\n",
    "# import subprocess\n",
    "# subprocess.call(['pwd'])\n",
    "# subprocess.call(['ls', '-l'])\n",
    "# subprocess.call(['conda', 'env','list'])"
   ]
  },
  {
   "cell_type": "markdown",
   "metadata": {},
   "source": [
    "### Submit the Experiment\n",
    "Submit script to run in the Docker image in the remote VM. If you run this for the first time, the system will download the base image, layer in packages specified in the `conda_dependencies.yml` file on top of the base image, create a container and then execute the script in the container."
   ]
  },
  {
   "cell_type": "markdown",
   "metadata": {},
   "source": [
    "## Configure & Run"
   ]
  },
  {
   "cell_type": "code",
   "execution_count": 23,
   "metadata": {
    "scrolled": false
   },
   "outputs": [
    {
     "name": "stdout",
     "output_type": "stream",
     "text": [
      "RunId: ghiordan_test_R_scoring_script_1552066598_7071fb24\n",
      "\n",
      "Streaming azureml-logs/60_control_log.txt\n",
      "=========================================\n",
      "\n",
      "Streaming log file azureml-logs/60_control_log.txt\n",
      "Logging experiment preparation status in history service.\n",
      "Running: ['sudo', 'docker', 'build', '-f', 'azureml-setup/Dockerfile', '-t', 'azureml/azureml_6a5da0d9647c03aec276af894c27d83b', '.']\n",
      "Sending build context to Docker daemon  179.2kB\n",
      "Step 1/13 : FROM continuumio/miniconda3:4.5.12\n",
      "4.5.12: Pulling from continuumio/miniconda3\n",
      "05d1a5232b46: Pulling fs layer\n",
      "d974dd5eb235: Pulling fs layer\n",
      "2de22c73730e: Pulling fs layer\n",
      "444f639f1b28: Pulling fs layer\n",
      "c1b600cb48ba: Pulling fs layer\n",
      "444f639f1b28: Waiting\n",
      "c1b600cb48ba: Waiting\n",
      "d974dd5eb235: Verifying Checksum\n",
      "d974dd5eb235: Download complete\n",
      "05d1a5232b46: Verifying Checksum\n",
      "05d1a5232b46: Download complete\n",
      "444f639f1b28: Verifying Checksum\n",
      "444f639f1b28: Download complete\n",
      "c1b600cb48ba: Verifying Checksum\n",
      "c1b600cb48ba: Download complete\n",
      "2de22c73730e: Verifying Checksum\n",
      "2de22c73730e: Download complete\n",
      "05d1a5232b46: Pull complete\n",
      "d974dd5eb235: Pull complete\n",
      "2de22c73730e: Pull complete\n",
      "444f639f1b28: Pull complete\n",
      "c1b600cb48ba: Pull complete\n",
      "Digest: sha256:e7bcbd77dd014025169f7ac698c40b7a036c97372ce80c60bb8970450a329db0\n",
      "Status: Downloaded newer image for continuumio/miniconda3:4.5.12\n",
      " ---> ae46c364060f\n",
      "Step 2/13 : USER root\n",
      " ---> Running in d649534cdbed\n",
      "Removing intermediate container d649534cdbed\n",
      " ---> e1b7c6590aad\n",
      "Step 3/13 : RUN mkdir -p $HOME/.cache\n",
      " ---> Running in fe6e639d7168\n",
      "Removing intermediate container fe6e639d7168\n",
      " ---> 4e2f67ef107c\n",
      "Step 4/13 : WORKDIR /\n",
      " ---> Running in 3c3245429bcd\n",
      "Removing intermediate container 3c3245429bcd\n",
      " ---> 701e1d3dd3cf\n",
      "Step 5/13 : COPY azureml-setup/99brokenproxy /etc/apt/apt.conf.d/\n",
      " ---> 9971f50be015\n",
      "Step 6/13 : RUN if dpkg --compare-versions `conda --version | grep -oE '[^ ]+$'` lt 4.4.0; then conda install conda==4.4.11; fi\n",
      " ---> Running in 85e3b55f9e6d\n",
      "Removing intermediate container 85e3b55f9e6d\n",
      " ---> c6990880c0c0\n",
      "Step 7/13 : COPY azureml-setup/mutated_conda_dependencies.yml azureml-setup/mutated_conda_dependencies.yml\n",
      " ---> 8fa581e272b6\n",
      "Step 8/13 : RUN ldconfig /usr/local/cuda/lib64/stubs && conda env create -p /azureml-envs/azureml_93ff344e89b19084da4a6791da55a8c6 -f azureml-setup/mutated_conda_dependencies.yml && ldconfig\n",
      " ---> Running in 974ad33db431\n",
      "Solving environment: ...working... done\n",
      "\u001b[91m\n",
      "\n",
      "==> WARNING: A newer version of conda exists. <==\n",
      "  current version: 4.5.12\n",
      "  latest version: 4.6.7\n",
      "\n",
      "Please update conda by running\n",
      "\n",
      "    $ conda update -n base -c defaults conda\n",
      "\n",
      "\n",
      "python-dateutil-2.8. | 219 KB    | ########## | 100% \u001b[0m\u001b[91m\n",
      "gsl-2.4              | 2.6 MB    | ########## | 100% \u001b[0m\u001b[91m\n",
      "libgfortran-ng-7.3.0 | 1.3 MB    | ########## | 100% \u001b[0m\u001b[91m\n",
      "r-lazyeval-0.2.1     | 148 KB    | ########## | 100% \u001b[0m\u001b[91m\n",
      "r-prettyunits-1.0.2  | 35 KB     | ########## | 100% \u001b[0m\u001b[91m\n",
      "r-scales-0.5.0       | 302 KB    | ########## | 100% \u001b[0m\u001b[91m\n",
      "icu-58.2             | 22.6 MB   | ########## | 100% \u001b[0m\u001b[91m\n",
      "r-dbi-1.0.0          | 873 KB    | ########## | 100% \u001b[0m\u001b[91m\n",
      "tk-8.6.9             | 3.1 MB    | ########## | 100% \u001b[0m\u001b[91m\n",
      "mkl_random-1.0.2     | 373 KB    | ########## | 100% \u001b[0m\u001b[91m\n",
      "r-tidyselect-0.2.4   | 125 KB    | ########## | 100% \u001b[0m\u001b[91m\n",
      "freetype-2.9.1       | 827 KB    | ########## | 100% \u001b[0m\u001b[91m\n",
      "glib-2.56.2          | 4.7 MB    | ########## | 100% \u001b[0m\u001b[91m\n",
      "gcc_linux-64-7.3.0   | 10 KB     | ########## | 100% \u001b[0m\u001b[91m\n",
      "r-base-3.5.1         | 39.8 MB   | ########## | 100% \u001b[0m\u001b[91m\n",
      "r-mass-7.3_50        | 1.1 MB    | ########## | 100% \u001b[0m\u001b[91m\n",
      "r-pillar-1.3.0       | 156 KB    | ########## | 100% \u001b[0m\u001b[91m\n",
      "r-dplyr-0.7.6        | 1.8 MB    | ########## | 100% \u001b[0m\u001b[91m\n",
      "tktable-2.10         | 88 KB     | ########## | 100% \u001b[0m\u001b[91m\n",
      "intel-openmp-2019.1  | 885 KB    | ########## | 100% \u001b[0m\u001b[91m\n",
      "r-tibble-1.4.2       | 228 KB    | ########## | 100% \u001b[0m\u001b[91m\n",
      "r-plogr-0.2.0        | 18 KB     | ########## | 100% \u001b[0m\u001b[91m\n",
      "six-1.12.0           | 22 KB     | ########## | 100% \u001b[0m\u001b[91m\n",
      "r-cli-1.0.0          | 323 KB    | ########## | 100% \u001b[0m\u001b[91m\n",
      "libpng-1.6.36        | 303 KB    | ########## | 100% \u001b[0m\u001b[91m\n",
      "openssl-1.0.2r       | 3.1 MB    | ########## | 100% \u001b[0m\u001b[91m\n",
      "r-bit-1.1_14         | 235 KB    | ########## | 100% \u001b[0m\u001b[91m\n",
      "fribidi-1.0.5        | 111 KB    | ########## | 100% \u001b[0m\u001b[91m\n",
      "setuptools-40.8.0    | 625 KB    | ########## | 100% \u001b[0m\u001b[91m\n",
      "libuuid-1.0.3        | 34 KB     | ########## | 100% \u001b[0m\u001b[91m\n",
      "jpeg-9c              | 251 KB    | ########## | 100% \u001b[0m\u001b[91m\n",
      "r-bit64-0.9_7        | 476 KB    | ########## | 100% \u001b[0m\u001b[91m\n",
      "binutils_linux-64-2. | 9 KB      | ########## | 100% \u001b[0m\u001b[91m\n",
      "r-plyr-1.8.4         | 812 KB    | ########## | 100% \u001b[0m\u001b[91m\n",
      "pandas-0.24.1        | 11.1 MB   | ########## | 100% \u001b[0m\u001b[91m\n",
      "r-viridislite-0.3.0  | 63 KB     | ########## | 100% \u001b[0m\u001b[91m\n",
      "libtiff-4.0.10       | 592 KB    | ########## | 100% \u001b[0m\u001b[91m\n",
      "_r-mutex-1.0.0       | 2 KB      | ########## | 100% \u001b[0m\u001b[91m\n",
      "r-rsqlite-2.1.1      | 992 KB    | ########## | 100% \u001b[0m\u001b[91m\n",
      "r-r6-2.2.2           | 275 KB    | ########## | 100% \u001b[0m\u001b[91m\n",
      "r-digest-0.6.15      | 150 KB    | ########## | 100% \u001b[0m\u001b[91m\n",
      "jinja2-2.10          | 89 KB     | ########## | 100% \u001b[0m\u001b[91m\n",
      "r-ggplot2-3.0.0      | 3.5 MB    | ########## | 100% \u001b[0m\u001b[91m\n",
      "r-lattice-0.20_35    | 1.1 MB    | ########## | 100% \u001b[0m\u001b[91m\n",
      "gfortran_impl_linux- | 9.0 MB    | ########## | 100% \u001b[0m\u001b[91m\n",
      "r-stringi-1.2.4      | 740 KB    | ########## | 100% \u001b[0m\u001b[91m\n",
      "r-fansi-0.2.3        | 141 KB    | ########## | 100% \u001b[0m\u001b[91m\n",
      "r-colorspace-1.3_2   | 507 KB    | ########## | 100% \u001b[0m\u001b[91m\n",
      "r-purrr-0.2.5        | 279 KB    | ########## | 100% \u001b[0m\u001b[91m\n",
      "r-reshape2-1.4.3     | 128 KB    | ########## | 100% \u001b[0m\u001b[91m\n",
      "libgcc-ng-7.3.0      | 6.1 MB    | ########## | 100% \u001b[0m\u001b[91m\n",
      "gfortran_linux-64-7. | 9 KB      | ########## | 100% \u001b[0m\u001b[91m\n",
      "r-utf8-1.1.4         | 159 KB    | ########## | 100% \u001b[0m\u001b[91m\n",
      "gcc_impl_linux-64-7. | 73.2 MB   | ########## | 100% \u001b[0m\u001b[91m\n",
      "ca-certificates-2018 | 143 KB    | ########## | 100% \u001b[0m\u001b[91m\n",
      "r-matrix-1.2_14      | 3.7 MB    | ########## | 100% \u001b[0m\u001b[91m\n",
      "r-magrittr-1.5       | 165 KB    | ########## | 100% \u001b[0m\u001b[91m\n",
      "r-crayon-1.3.4       | 745 KB    | ########## | 100% \u001b[0m\u001b[91m\n",
      "cairo-1.14.12        | 1.3 MB    | ########## | 100% \u001b[0m\u001b[91m\n",
      "libedit-3.1.20170329 | 172 KB    | ########## | 100% \u001b[0m\u001b[91m\n",
      "pip-19.0.3           | 1.8 MB    | ########## | 100% \u001b[0m\u001b[91m\n",
      "xorg-libxau-1.0.9    | 13 KB     | ########## | 100% \u001b[0m\u001b[91m\n",
      "markupsafe-1.1.1     | 26 KB     | ########## | 100% \u001b[0m\u001b[91m\n",
      "wheel-0.33.1         | 34 KB     | ########## | 100% \u001b[0m\u001b[91m\n",
      "r-memoise-1.1.0      | 40 KB     | ########## | 100% \u001b[0m\u001b[91m\n",
      "curl-7.64.0          | 143 KB    | ########## | 100% \u001b[0m\u001b[91m\n",
      "pango-1.42.4         | 528 KB    | ########## | 100% \u001b[0m\u001b[91m\n",
      "blas-1.0             | 6 KB      | ########## | 100% \u001b[0m\u001b[91m\n",
      "r-nlme-3.1_137       | 2.2 MB    | ########## | 100% \u001b[0m\u001b[91m\n",
      "r-rlang-0.2.1        | 776 KB    | ########## | 100% \u001b[0m\u001b[91m\n",
      "r-blob-1.1.1         | 27 KB     | ########## | 100% \u001b[0m\u001b[91m\n",
      "pixman-0.34.0        | 595 KB    | ########## | 100% \u001b[0m\u001b[91m\n",
      "r-proc-1.12.1        | 645 KB    | ########## | 100% \u001b[0m\u001b[91m\n",
      "krb5-1.16.3          | 1.4 MB    | ########## | 100% \u001b[0m\u001b[91m\n",
      "gxx_linux-64-7.3.0   | 9 KB      | ########## | 100% \u001b[0m\u001b[91m\n",
      "mkl_fft-1.0.10       | 166 KB    | ########## | 100% \u001b[0m\u001b[91m\n",
      "numpy-1.16.2         | 49 KB     | ########## | 100% \u001b[0m\u001b[91m\n",
      "r-jsonlite-1.5       | 1.1 MB    | ########## | 100% \u001b[0m\u001b[91m\n",
      "libffi-3.2.1         | 46 KB     | ########## | 100% \u001b[0m\u001b[91m\n",
      "libxcb-1.13          | 396 KB    | ########## | 100% \u001b[0m\u001b[91m\n",
      "r-glue-1.3.0         | 95 KB     | ########## | 100% \u001b[0m\u001b[91m\n",
      "ncurses-6.1          | 1.3 MB    | ########## | 100% \u001b[0m\u001b[91m\n",
      "xorg-libxdmcp-1.1.2  | 18 KB     | ########## | 100% \u001b[0m\u001b[91m\n",
      "r-bindr-0.1.1        | 20 KB     | ########## | 100% \u001b[0m\u001b[91m\n",
      "zlib-1.2.11          | 101 KB    | ########## | 100% \u001b[0m\u001b[91m\n",
      "r-dbplyr-1.2.2       | 533 KB    | ########## | 100% \u001b[0m\u001b[91m\n",
      "gettext-0.19.8.1     | 3.7 MB    | ########## | 100% \u001b[0m\u001b[91m\n",
      "r-bindrcpp-0.2.2     | 93 KB     | ########## | 100% \u001b[0m\u001b[91m\n",
      "make-4.2.1           | 458 KB    | ########## | 100% \u001b[0m\u001b[91m\n"
     ]
    },
    {
     "name": "stdout",
     "output_type": "stream",
     "text": [
      "binutils_impl_linux- | 16.5 MB   | ########## | 100% \u001b[0m\u001b[91m\n",
      "libxml2-2.9.8        | 2.0 MB    | ########## | 100% \u001b[0m\u001b[91m\n",
      "r-bh-1.66.0_1        | 10.0 MB   | ########## | 100% \u001b[0m\u001b[91m\n",
      "rpy2-2.9.1           | 268 KB    | ########## | 100% \u001b[0m\u001b[91m\n",
      "r-rcolorbrewer-1.1_2 | 58 KB     | ########## | 100% \u001b[0m\u001b[91m\n",
      "graphite2-1.3.13     | 109 KB    | ########## | 100% \u001b[0m\u001b[91m\n",
      "pytz-2018.9          | 229 KB    | ########## | 100% \u001b[0m\u001b[91m\n",
      "r-mgcv-1.8_24        | 2.5 MB    | ########## | 100% \u001b[0m\u001b[91m\n",
      "libcurl-7.64.0       | 586 KB    | ########## | 100% \u001b[0m\u001b[91m\n",
      "r-labeling-0.3       | 64 KB     | ########## | 100% \u001b[0m\u001b[91m\n",
      "r-assertthat-0.2.0   | 57 KB     | ########## | 100% \u001b[0m\u001b[91m\n",
      "bwidget-1.9.11       | 113 KB    | ########## | 100% \u001b[0m\u001b[91m\n",
      "fontconfig-2.13.0    | 291 KB    | ########## | 100% \u001b[0m\u001b[91m\n",
      "bzip2-1.0.6          | 415 KB    | ########## | 100% \u001b[0m\u001b[91m\n",
      "pthread-stubs-0.4    | 5 KB      | ########## | 100% \u001b[0m\u001b[91m\n",
      "numpy-base-1.16.2    | 4.3 MB    | ########## | 100% \u001b[0m\u001b[91m\n",
      "xz-5.2.4             | 366 KB    | ########## | 100% \u001b[0m\u001b[91m\n",
      "gxx_impl_linux-64-7. | 18.7 MB   | ########## | 100% \u001b[0m\u001b[91m\n",
      "sqlite-3.26.0        | 1.9 MB    | ########## | 100% \u001b[0m\u001b[91m\n",
      "r-rcpp-0.12.18       | 3.4 MB    | ########## | 100% \u001b[0m\u001b[91m\n",
      "harfbuzz-1.9.0       | 957 KB    | ########## | 100% \u001b[0m\u001b[91m\n",
      "r-kernlab-0.9_26     | 2.1 MB    | ########## | 100% \u001b[0m\u001b[91m\n",
      "r-withr-2.1.2        | 161 KB    | ########## | 100% \u001b[0m\u001b[91m\n",
      "r-pkgconfig-2.0.1    | 23 KB     | ########## | 100% \u001b[0m\u001b[91m\n",
      "readline-7.0         | 391 KB    | ########## | 100% \u001b[0m\u001b[91m\n",
      "libstdcxx-ng-7.3.0   | 2.6 MB    | ########## | 100% \u001b[0m\u001b[91m\n",
      "python-3.7.0         | 31.5 MB   | ########## | 100% \u001b[0m\u001b[91m\n",
      "libssh2-1.8.0        | 246 KB    | ########## | 100% \u001b[0m\u001b[91m\n",
      "pcre-8.42            | 251 KB    | ########## | 100% \u001b[0m\u001b[91m\n",
      "r-munsell-0.5.0      | 242 KB    | ########## | 100% \u001b[0m\u001b[91m\n",
      "r-dichromat-2.0_0    | 151 KB    | ########## | 100% \u001b[0m\u001b[91m\n",
      "r-gtable-0.2.0       | 88 KB     | ########## | 100% \u001b[0m\u001b[91m\n",
      "libiconv-1.15        | 2.0 MB    | ########## | 100% \u001b[0m\u001b[91m\n",
      "mkl-2019.1           | 204.6 MB  | ########## | 100% \u001b[0m\u001b[91m\n",
      "r-stringr-1.3.1      | 184 KB    | ########## | 100% \u001b[0m\u001b[91m\n",
      "certifi-2018.11.29   | 145 KB    | ########## | 100% \u001b[0m\n",
      "Downloading and Extracting Packages\n",
      "Preparing transaction: ...working... done\n",
      "Verifying transaction: ...working... done\n",
      "Executing transaction: ...working... done\n",
      "Collecting azureml-defaults (from -r /azureml-setup/condaenv.4dx5m9fr.requirements.txt (line 1))\n",
      "  Downloading https://files.pythonhosted.org/packages/64/0a/e1c2b6e2a591dda0a1a8ee3a143264484d1db46fef80eb34f652ac7a3846/azureml_defaults-1.0.17-py2.py3-none-any.whl\n",
      "Collecting azureml-core==1.0.17.* (from azureml-defaults->-r /azureml-setup/condaenv.4dx5m9fr.requirements.txt (line 1))\n",
      "  Downloading https://files.pythonhosted.org/packages/54/8e/4e57078e34ce48d089c5e427327ebdb7a5002d807140a90948c3635bfc2e/azureml_core-1.0.17.1-py2.py3-none-any.whl (719kB)\n",
      "Collecting applicationinsights>=0.11.7 (from azureml-defaults->-r /azureml-setup/condaenv.4dx5m9fr.requirements.txt (line 1))\n",
      "  Downloading https://files.pythonhosted.org/packages/e3/c8/7848a0dd85158930b859eb8be1e38fc76a91f0a040d491723ebb356d7358/applicationinsights-0.11.7-py2.py3-none-any.whl (56kB)\n",
      "Collecting SecretStorage (from azureml-core==1.0.17.*->azureml-defaults->-r /azureml-setup/condaenv.4dx5m9fr.requirements.txt (line 1))\n",
      "  Downloading https://files.pythonhosted.org/packages/82/59/cb226752e20d83598d7fdcabd7819570b0329a61db07cfbdd21b2ef546e3/SecretStorage-3.1.1-py3-none-any.whl\n",
      "Collecting msrest>=0.5.1 (from azureml-core==1.0.17.*->azureml-defaults->-r /azureml-setup/condaenv.4dx5m9fr.requirements.txt (line 1))\n",
      "  Downloading https://files.pythonhosted.org/packages/eb/96/1cf56e4cfd221b7f6eb6ab096dc23b0d21361393f0784276531e49b0b2a1/msrest-0.6.4-py2.py3-none-any.whl (81kB)\n",
      "Collecting azure-mgmt-authorization>=0.40.0 (from azureml-core==1.0.17.*->azureml-defaults->-r /azureml-setup/condaenv.4dx5m9fr.requirements.txt (line 1))\n",
      "  Downloading https://files.pythonhosted.org/packages/a1/71/9a20913e92771b3c23564f1bea54d376d09fb30a75585087c70b769d75c8/azure_mgmt_authorization-0.51.1-py2.py3-none-any.whl (111kB)\n",
      "Collecting ndg-httpsclient (from azureml-core==1.0.17.*->azureml-defaults->-r /azureml-setup/condaenv.4dx5m9fr.requirements.txt (line 1))\n",
      "  Downloading https://files.pythonhosted.org/packages/fb/67/c2f508c00ed2a6911541494504b7cac16fe0b0473912568df65fd1801132/ndg_httpsclient-0.5.1-py3-none-any.whl\n",
      "Collecting ruamel.yaml<=0.15.51,>=0.15.35 (from azureml-core==1.0.17.*->azureml-defaults->-r /azureml-setup/condaenv.4dx5m9fr.requirements.txt (line 1))\n",
      "  Downloading https://files.pythonhosted.org/packages/fb/f4/a889830fe33284fc9a04c5d1ff699b6200a7ddd8527c6329dc541add022a/ruamel.yaml-0.15.51-cp37-cp37m-manylinux1_x86_64.whl (635kB)\n",
      "Requirement already satisfied: python-dateutil>=2.7.3 in /azureml-envs/azureml_93ff344e89b19084da4a6791da55a8c6/lib/python3.7/site-packages (from azureml-core==1.0.17.*->azureml-defaults->-r /azureml-setup/condaenv.4dx5m9fr.requirements.txt (line 1)) (2.8.0)\n",
      "Collecting azure-graphrbac>=0.40.0 (from azureml-core==1.0.17.*->azureml-defaults->-r /azureml-setup/condaenv.4dx5m9fr.requirements.txt (line 1))\n",
      "  Downloading https://files.pythonhosted.org/packages/da/a8/3d3d6fe8458b2b07bad10195c79928ea9ba87b5cc0c08903b387dd27c6f0/azure_graphrbac-0.53.0-py2.py3-none-any.whl (108kB)\n",
      "Collecting PyJWT (from azureml-core==1.0.17.*->azureml-defaults->-r /azureml-setup/condaenv.4dx5m9fr.requirements.txt (line 1))\n",
      "  Downloading https://files.pythonhosted.org/packages/87/8b/6a9f14b5f781697e51259d81657e6048fd31a113229cf346880bb7545565/PyJWT-1.7.1-py2.py3-none-any.whl\n",
      "Collecting contextlib2 (from azureml-core==1.0.17.*->azureml-defaults->-r /azureml-setup/condaenv.4dx5m9fr.requirements.txt (line 1))\n",
      "  Downloading https://files.pythonhosted.org/packages/a2/71/8273a7eeed0aff6a854237ab5453bc9aa67deb49df4832801c21f0ff3782/contextlib2-0.5.5-py2.py3-none-any.whl\n",
      "Collecting adal>=1.2.0 (from azureml-core==1.0.17.*->azureml-defaults->-r /azureml-setup/condaenv.4dx5m9fr.requirements.txt (line 1))\n",
      "  Downloading https://files.pythonhosted.org/packages/00/72/53dce9e4f5d6c1aa57b8d408cb34dff1969ecbf10ab7e678f32c5e0e2397/adal-1.2.1-py2.py3-none-any.whl (52kB)\n",
      "Collecting jmespath (from azureml-core==1.0.17.*->azureml-defaults->-r /azureml-setup/condaenv.4dx5m9fr.requirements.txt (line 1))\n",
      "  Downloading https://files.pythonhosted.org/packages/83/94/7179c3832a6d45b266ddb2aac329e101367fbdb11f425f13771d27f225bb/jmespath-0.9.4-py2.py3-none-any.whl\n",
      "Requirement already satisfied: pytz in /azureml-envs/azureml_93ff344e89b19084da4a6791da55a8c6/lib/python3.7/site-packages (from azureml-core==1.0.17.*->azureml-defaults->-r /azureml-setup/condaenv.4dx5m9fr.requirements.txt (line 1)) (2018.9)\n",
      "Collecting azure-mgmt-containerregistry>=2.0.0 (from azureml-core==1.0.17.*->azureml-defaults->-r /azureml-setup/condaenv.4dx5m9fr.requirements.txt (line 1))\n",
      "  Downloading https://files.pythonhosted.org/packages/7a/4b/06040d992f93531e32c5f7cf7884f3edfec11f76f802dd9224c1116c3129/azure_mgmt_containerregistry-2.7.0-py2.py3-none-any.whl (509kB)\n",
      "Requirement already satisfied: six>=1.11.0 in /azureml-envs/azureml_93ff344e89b19084da4a6791da55a8c6/lib/python3.7/site-packages (from azureml-core==1.0.17.*->azureml-defaults->-r /azureml-setup/condaenv.4dx5m9fr.requirements.txt (line 1)) (1.12.0)\n",
      "Collecting azure-mgmt-storage>=1.5.0 (from azureml-core==1.0.17.*->azureml-defaults->-r /azureml-setup/condaenv.4dx5m9fr.requirements.txt (line 1))\n",
      "  Downloading https://files.pythonhosted.org/packages/d9/87/ab44b9d9627ff91825ba5f5a39092ebfe97a90679008609db4c479036591/azure_mgmt_storage-3.1.1-py2.py3-none-any.whl (696kB)\n",
      "Collecting pyopenssl (from azureml-core==1.0.17.*->azureml-defaults->-r /azureml-setup/condaenv.4dx5m9fr.requirements.txt (line 1))\n",
      "  Downloading https://files.pythonhosted.org/packages/01/c8/ceb170d81bd3941cbeb9940fc6cc2ef2ca4288d0ca8929ea4db5905d904d/pyOpenSSL-19.0.0-py2.py3-none-any.whl (53kB)\n",
      "Collecting azure-mgmt-resource>=1.2.1 (from azureml-core==1.0.17.*->azureml-defaults->-r /azureml-setup/condaenv.4dx5m9fr.requirements.txt (line 1))\n",
      "  Downloading https://files.pythonhosted.org/packages/2b/2e/e79a278bedfc21308ab0c632759cfda5d7ff02d62260bcc4632449937dcf/azure_mgmt_resource-2.1.0-py2.py3-none-any.whl (757kB)\n",
      "Collecting pathspec (from azureml-core==1.0.17.*->azureml-defaults->-r /azureml-setup/condaenv.4dx5m9fr.requirements.txt (line 1))\n",
      "  Downloading https://files.pythonhosted.org/packages/84/2a/bfee636b1e2f7d6e30dd74f49201ccfa5c3cf322d44929ecc6c137c486c5/pathspec-0.5.9.tar.gz\n",
      "Collecting urllib3>=1.23 (from azureml-core==1.0.17.*->azureml-defaults->-r /azureml-setup/condaenv.4dx5m9fr.requirements.txt (line 1))\n",
      "  Downloading https://files.pythonhosted.org/packages/62/00/ee1d7de624db8ba7090d1226aebefab96a2c71cd5cfa7629d6ad3f61b79e/urllib3-1.24.1-py2.py3-none-any.whl (118kB)\n",
      "Collecting azure-mgmt-keyvault>=0.40.0 (from azureml-core==1.0.17.*->azureml-defaults->-r /azureml-setup/condaenv.4dx5m9fr.requirements.txt (line 1))\n",
      "  Downloading https://files.pythonhosted.org/packages/49/de/0d69aedae7c5f6428314640b65947203ab80409c12b5d4e66fb5b7a4182e/azure_mgmt_keyvault-1.1.0-py2.py3-none-any.whl (111kB)\n",
      "Collecting backports.tempfile (from azureml-core==1.0.17.*->azureml-defaults->-r /azureml-setup/condaenv.4dx5m9fr.requirements.txt (line 1))\n",
      "  Downloading https://files.pythonhosted.org/packages/b4/5c/077f910632476281428fe254807952eb47ca78e720d059a46178c541e669/backports.tempfile-1.0-py2.py3-none-any.whl\n",
      "Collecting jsonpickle (from azureml-core==1.0.17.*->azureml-defaults->-r /azureml-setup/condaenv.4dx5m9fr.requirements.txt (line 1))\n",
      "  Downloading https://files.pythonhosted.org/packages/dc/12/8c44eabb501e2bc0aec0dd152b328074d98a50968d3a02be28f6037f0c6a/jsonpickle-1.1-py2.py3-none-any.whl\n",
      "Collecting msrestazure>=0.4.33 (from azureml-core==1.0.17.*->azureml-defaults->-r /azureml-setup/condaenv.4dx5m9fr.requirements.txt (line 1))\n",
      "  Downloading https://files.pythonhosted.org/packages/46/ba/7870308e3d3b4b3956880eed2df20669a5690436793e6fc1442c8b73e01c/msrestazure-0.6.0-py2.py3-none-any.whl\n",
      "Collecting docker (from azureml-core==1.0.17.*->azureml-defaults->-r /azureml-setup/condaenv.4dx5m9fr.requirements.txt (line 1))\n",
      "  Downloading https://files.pythonhosted.org/packages/7e/3c/b610f22b170b0f8fe4d8f78974878e116562389f666f99e6549567eb9d87/docker-3.7.0-py2.py3-none-any.whl (133kB)\n",
      "Collecting paramiko>=2.0.8 (from azureml-core==1.0.17.*->azureml-defaults->-r /azureml-setup/condaenv.4dx5m9fr.requirements.txt (line 1))\n",
      "  Downloading https://files.pythonhosted.org/packages/cf/ae/94e70d49044ccc234bfdba20114fa947d7ba6eb68a2e452d89b920e62227/paramiko-2.4.2-py2.py3-none-any.whl (193kB)\n",
      "Collecting azure-common>=1.1.12 (from azureml-core==1.0.17.*->azureml-defaults->-r /azureml-setup/condaenv.4dx5m9fr.requirements.txt (line 1))\n",
      "  Downloading https://files.pythonhosted.org/packages/c3/f8/46248b201fd38b7e93c6da644e2fc3bc5a39118f253562751fd295a8cc77/azure_common-1.1.18-py2.py3-none-any.whl\n",
      "Collecting cryptography!=1.9,!=2.0.*,!=2.1.*,!=2.2.*,<2.6 (from azureml-core==1.0.17.*->azureml-defaults->-r /azureml-setup/condaenv.4dx5m9fr.requirements.txt (line 1))\n",
      "  Downloading https://files.pythonhosted.org/packages/98/71/e632e222f34632e0527dd41799f7847305e701f38f512d81bdf96009bca4/cryptography-2.5-cp34-abi3-manylinux1_x86_64.whl (2.4MB)\n",
      "Collecting pyyaml>=3.13 (from azureml-core==1.0.17.*->azureml-defaults->-r /azureml-setup/condaenv.4dx5m9fr.requirements.txt (line 1))\n",
      "  Downloading https://files.pythonhosted.org/packages/9e/a3/1d13970c3f36777c583f136c136f804d70f500168edc1edea6daa7200769/PyYAML-3.13.tar.gz (270kB)\n"
     ]
    },
    {
     "name": "stdout",
     "output_type": "stream",
     "text": [
      "Collecting requests>=2.19.1 (from azureml-core==1.0.17.*->azureml-defaults->-r /azureml-setup/condaenv.4dx5m9fr.requirements.txt (line 1))\n",
      "  Downloading https://files.pythonhosted.org/packages/7d/e3/20f3d364d6c8e5d2353c72a67778eb189176f08e873c9900e10c0287b84b/requests-2.21.0-py2.py3-none-any.whl (57kB)\n",
      "Collecting jeepney (from SecretStorage->azureml-core==1.0.17.*->azureml-defaults->-r /azureml-setup/condaenv.4dx5m9fr.requirements.txt (line 1))\n",
      "  Downloading https://files.pythonhosted.org/packages/2b/f7/ff23b9b59534f501d47c327576aadda59da5b83d76ff837e6075bc325b9f/jeepney-0.4-py3-none-any.whl (59kB)\n",
      "Collecting requests-oauthlib>=0.5.0 (from msrest>=0.5.1->azureml-core==1.0.17.*->azureml-defaults->-r /azureml-setup/condaenv.4dx5m9fr.requirements.txt (line 1))\n",
      "  Downloading https://files.pythonhosted.org/packages/c2/e2/9fd03d55ffb70fe51f587f20bcf407a6927eb121de86928b34d162f0b1ac/requests_oauthlib-1.2.0-py2.py3-none-any.whl\n",
      "Requirement already satisfied: certifi>=2017.4.17 in /azureml-envs/azureml_93ff344e89b19084da4a6791da55a8c6/lib/python3.7/site-packages (from msrest>=0.5.1->azureml-core==1.0.17.*->azureml-defaults->-r /azureml-setup/condaenv.4dx5m9fr.requirements.txt (line 1)) (2018.11.29)\n",
      "Collecting isodate>=0.6.0 (from msrest>=0.5.1->azureml-core==1.0.17.*->azureml-defaults->-r /azureml-setup/condaenv.4dx5m9fr.requirements.txt (line 1))\n",
      "  Downloading https://files.pythonhosted.org/packages/9b/9f/b36f7774ff5ea8e428fdcfc4bb332c39ee5b9362ddd3d40d9516a55221b2/isodate-0.6.0-py2.py3-none-any.whl (45kB)\n",
      "Collecting pyasn1>=0.1.1 (from ndg-httpsclient->azureml-core==1.0.17.*->azureml-defaults->-r /azureml-setup/condaenv.4dx5m9fr.requirements.txt (line 1))\n",
      "  Downloading https://files.pythonhosted.org/packages/7b/7c/c9386b82a25115cccf1903441bba3cbadcfae7b678a20167347fa8ded34c/pyasn1-0.4.5-py2.py3-none-any.whl (73kB)\n",
      "Collecting azure-mgmt-nspkg>=2.0.0 (from azure-mgmt-keyvault>=0.40.0->azureml-core==1.0.17.*->azureml-defaults->-r /azureml-setup/condaenv.4dx5m9fr.requirements.txt (line 1))\n",
      "  Downloading https://files.pythonhosted.org/packages/b3/c2/af4b47845f27dc7d206ed4908b9e580f8bc94a4b2f3956a0d87c40719d90/azure_mgmt_nspkg-3.0.2-py3-none-any.whl\n",
      "Collecting backports.weakref (from backports.tempfile->azureml-core==1.0.17.*->azureml-defaults->-r /azureml-setup/condaenv.4dx5m9fr.requirements.txt (line 1))\n",
      "  Downloading https://files.pythonhosted.org/packages/88/ec/f598b633c3d5ffe267aaada57d961c94fdfa183c5c3ebda2b6d151943db6/backports.weakref-1.0.post1-py2.py3-none-any.whl\n",
      "Collecting websocket-client>=0.32.0 (from docker->azureml-core==1.0.17.*->azureml-defaults->-r /azureml-setup/condaenv.4dx5m9fr.requirements.txt (line 1))\n",
      "  Downloading https://files.pythonhosted.org/packages/38/54/684db2ba1b7a203602808446b8686ee786f93b4a7e080cdc440cc7e06e56/websocket_client-0.55.0-py2.py3-none-any.whl (200kB)\n",
      "Collecting docker-pycreds>=0.4.0 (from docker->azureml-core==1.0.17.*->azureml-defaults->-r /azureml-setup/condaenv.4dx5m9fr.requirements.txt (line 1))\n",
      "  Downloading https://files.pythonhosted.org/packages/f5/e8/f6bd1eee09314e7e6dee49cbe2c5e22314ccdb38db16c9fc72d2fa80d054/docker_pycreds-0.4.0-py2.py3-none-any.whl\n",
      "Collecting bcrypt>=3.1.3 (from paramiko>=2.0.8->azureml-core==1.0.17.*->azureml-defaults->-r /azureml-setup/condaenv.4dx5m9fr.requirements.txt (line 1))\n",
      "  Downloading https://files.pythonhosted.org/packages/d0/79/79a4d167a31cc206117d9b396926615fa9c1fdbd52017bcced80937ac501/bcrypt-3.1.6-cp34-abi3-manylinux1_x86_64.whl (55kB)\n",
      "Collecting pynacl>=1.0.1 (from paramiko>=2.0.8->azureml-core==1.0.17.*->azureml-defaults->-r /azureml-setup/condaenv.4dx5m9fr.requirements.txt (line 1))\n",
      "  Downloading https://files.pythonhosted.org/packages/27/15/2cd0a203f318c2240b42cd9dd13c931ddd61067809fee3479f44f086103e/PyNaCl-1.3.0-cp34-abi3-manylinux1_x86_64.whl (759kB)\n",
      "Collecting asn1crypto>=0.21.0 (from cryptography!=1.9,!=2.0.*,!=2.1.*,!=2.2.*,<2.6->azureml-core==1.0.17.*->azureml-defaults->-r /azureml-setup/condaenv.4dx5m9fr.requirements.txt (line 1))\n",
      "  Downloading https://files.pythonhosted.org/packages/ea/cd/35485615f45f30a510576f1a56d1e0a7ad7bd8ab5ed7cdc600ef7cd06222/asn1crypto-0.24.0-py2.py3-none-any.whl (101kB)\n",
      "Collecting cffi!=1.11.3,>=1.8 (from cryptography!=1.9,!=2.0.*,!=2.1.*,!=2.2.*,<2.6->azureml-core==1.0.17.*->azureml-defaults->-r /azureml-setup/condaenv.4dx5m9fr.requirements.txt (line 1))\n",
      "  Downloading https://files.pythonhosted.org/packages/a7/3f/2667a1516d935938245bd256b56a2f96d739ac3683e6778380f06c6e4c79/cffi-1.12.2-cp37-cp37m-manylinux1_x86_64.whl (430kB)\n",
      "Collecting chardet<3.1.0,>=3.0.2 (from requests>=2.19.1->azureml-core==1.0.17.*->azureml-defaults->-r /azureml-setup/condaenv.4dx5m9fr.requirements.txt (line 1))\n",
      "  Downloading https://files.pythonhosted.org/packages/bc/a9/01ffebfb562e4274b6487b4bb1ddec7ca55ec7510b22e4c51f14098443b8/chardet-3.0.4-py2.py3-none-any.whl (133kB)\n",
      "Collecting idna<2.9,>=2.5 (from requests>=2.19.1->azureml-core==1.0.17.*->azureml-defaults->-r /azureml-setup/condaenv.4dx5m9fr.requirements.txt (line 1))\n",
      "  Downloading https://files.pythonhosted.org/packages/14/2c/cd551d81dbe15200be1cf41cd03869a46fe7226e7450af7a6545bfc474c9/idna-2.8-py2.py3-none-any.whl (58kB)\n",
      "Collecting oauthlib>=3.0.0 (from requests-oauthlib>=0.5.0->msrest>=0.5.1->azureml-core==1.0.17.*->azureml-defaults->-r /azureml-setup/condaenv.4dx5m9fr.requirements.txt (line 1))\n",
      "  Downloading https://files.pythonhosted.org/packages/16/95/699466b05b72b94a41f662dc9edf87fda4289e3602ecd42d27fcaddf7b56/oauthlib-3.0.1-py2.py3-none-any.whl (142kB)\n",
      "Collecting azure-nspkg>=3.0.0 (from azure-mgmt-nspkg>=2.0.0->azure-mgmt-keyvault>=0.40.0->azureml-core==1.0.17.*->azureml-defaults->-r /azureml-setup/condaenv.4dx5m9fr.requirements.txt (line 1))\n",
      "  Downloading https://files.pythonhosted.org/packages/c4/0c/c562be95a9a2ed52454f598571cf300b1114d0db2aa27f5b8ed3bb9cd0c0/azure_nspkg-3.0.2-py3-none-any.whl\n",
      "Collecting pycparser (from cffi!=1.11.3,>=1.8->cryptography!=1.9,!=2.0.*,!=2.1.*,!=2.2.*,<2.6->azureml-core==1.0.17.*->azureml-defaults->-r /azureml-setup/condaenv.4dx5m9fr.requirements.txt (line 1))\n",
      "  Downloading https://files.pythonhosted.org/packages/68/9e/49196946aee219aead1290e00d1e7fdeab8567783e83e1b9ab5585e6206a/pycparser-2.19.tar.gz (158kB)\n",
      "Building wheels for collected packages: pathspec, pyyaml, pycparser\n",
      "  Building wheel for pathspec (setup.py): started\n",
      "  Building wheel for pathspec (setup.py): finished with status 'done'\n",
      "  Stored in directory: /root/.cache/pip/wheels/45/cb/7e/ce6e6062c69446e39e328170524ca8213498bc66a74c6a210b\n",
      "  Building wheel for pyyaml (setup.py): started\n",
      "  Building wheel for pyyaml (setup.py): finished with status 'done'\n",
      "  Stored in directory: /root/.cache/pip/wheels/ad/da/0c/74eb680767247273e2cf2723482cb9c924fe70af57c334513f\n",
      "  Building wheel for pycparser (setup.py): started\n",
      "  Building wheel for pycparser (setup.py): finished with status 'done'\n",
      "  Stored in directory: /root/.cache/pip/wheels/f2/9a/90/de94f8556265ddc9d9c8b271b0f63e57b26fb1d67a45564511\n",
      "Successfully built pathspec pyyaml pycparser\n",
      "Installing collected packages: jeepney, asn1crypto, pycparser, cffi, cryptography, SecretStorage, oauthlib, chardet, urllib3, idna, requests, requests-oauthlib, isodate, msrest, azure-common, PyJWT, adal, msrestazure, azure-mgmt-authorization, pyasn1, pyopenssl, ndg-httpsclient, ruamel.yaml, azure-graphrbac, contextlib2, jmespath, azure-mgmt-containerregistry, azure-mgmt-storage, azure-mgmt-resource, pathspec, azure-nspkg, azure-mgmt-nspkg, azure-mgmt-keyvault, backports.weakref, backports.tempfile, jsonpickle, websocket-client, docker-pycreds, docker, bcrypt, pynacl, paramiko, pyyaml, azureml-core, applicationinsights, azureml-defaults\n",
      "Successfully installed PyJWT-1.7.1 SecretStorage-3.1.1 adal-1.2.1 applicationinsights-0.11.7 asn1crypto-0.24.0 azure-common-1.1.18 azure-graphrbac-0.53.0 azure-mgmt-authorization-0.51.1 azure-mgmt-containerregistry-2.7.0 azure-mgmt-keyvault-1.1.0 azure-mgmt-nspkg-3.0.2 azure-mgmt-resource-2.1.0 azure-mgmt-storage-3.1.1 azure-nspkg-3.0.2 azureml-core-1.0.17.1 azureml-defaults-1.0.17 backports.tempfile-1.0 backports.weakref-1.0.post1 bcrypt-3.1.6 cffi-1.12.2 chardet-3.0.4 contextlib2-0.5.5 cryptography-2.5 docker-3.7.0 docker-pycreds-0.4.0 idna-2.8 isodate-0.6.0 jeepney-0.4 jmespath-0.9.4 jsonpickle-1.1 msrest-0.6.4 msrestazure-0.6.0 ndg-httpsclient-0.5.1 oauthlib-3.0.1 paramiko-2.4.2 pathspec-0.5.9 pyasn1-0.4.5 pycparser-2.19 pynacl-1.3.0 pyopenssl-19.0.0 pyyaml-3.13 requests-2.21.0 requests-oauthlib-1.2.0 ruamel.yaml-0.15.51 urllib3-1.24.1 websocket-client-0.55.0\n",
      "\u001b[91m\n",
      "\u001b[0m#\n",
      "# To activate this environment, use:\n",
      "# > source activate /azureml-envs/azureml_93ff344e89b19084da4a6791da55a8c6\n",
      "#\n",
      "# To deactivate an active environment, use:\n",
      "# > source deactivate\n",
      "#\n",
      "\n"
     ]
    },
    {
     "name": "stdout",
     "output_type": "stream",
     "text": [
      "Removing intermediate container 974ad33db431\n",
      " ---> 953f99a0413b\n",
      "Step 9/13 : ENV PATH /azureml-envs/azureml_93ff344e89b19084da4a6791da55a8c6/bin:$PATH\n",
      " ---> Running in 7716a8b1a68c\n",
      "Removing intermediate container 7716a8b1a68c\n",
      " ---> ddf5c69d29be\n",
      "Step 10/13 : ENV LD_LIBRARY_PATH /azureml-envs/azureml_93ff344e89b19084da4a6791da55a8c6/lib:$LD_LIBRARY_PATH\n",
      " ---> Running in 19642eb0e362\n",
      "Removing intermediate container 19642eb0e362\n",
      " ---> 8691a67738a4\n",
      "Step 11/13 : COPY azureml-setup/spark_cache.py azureml-setup/log4j.properties /azureml-setup/\n",
      " ---> a1312bb96a6c\n",
      "Step 12/13 : RUN if [ $SPARK_HOME ]; then /bin/bash -c '$SPARK_HOME/bin/spark-submit \"--repositories\" \"https://mmlspark.azureedge.net/maven\" \"--packages\" \"com.microsoft.ml.spark:mmlspark_2.11:0.12\" /azureml-setup/spark_cache.py'; fi\n",
      " ---> Running in 3af25cd2ae13\n",
      "Removing intermediate container 3af25cd2ae13\n",
      " ---> f7fe41cf27da\n",
      "Step 13/13 : CMD [\"bash\"]\n",
      " ---> Running in 7a5bf275499a\n",
      "Removing intermediate container 7a5bf275499a\n",
      " ---> 1e9d80dc792c\n",
      "Successfully built 1e9d80dc792c\n",
      "Successfully tagged azureml/azureml_6a5da0d9647c03aec276af894c27d83b:latest\n",
      "\n",
      "\n",
      "Logging experiment running status in history service.\n",
      "Running: ['sudo', 'docker', 'run', '--name', 'ghiordan_test_R_scoring_script_1552066598_7071fb24', '--rm', '-v', '/tmp/azureml_runs/ghiordan_test_R_scoring_script_1552066598_7071fb24:/azureml-run', '--shm-size', '1g', '-e', 'AZUREML_DOCKERFILE_PATH=azureml-setup/Dockerfile', '-e', 'AZUREML_TARGET_TYPE=remote', '-e', 'AZUREML_CONDA_ENVIRONMENT_EXISTENCE_INDICATOR=$HOME/.azureml/locks/azureml_93ff344e89b19084da4a6791da55a8c6', '-e', 'AZUREML_CONDA_ENVIRONMENT_PATH=/azureml-envs/azureml_93ff344e89b19084da4a6791da55a8c6', '-e', 'AZUREML_CONDA_LOCK_PATH=$HOME/.azureml/locks/azureml_conda_lock', '-e', 'AZUREML_USER_CONDA_DIRECTORY=$HOME/.azureml', '-e', 'EXAMPLE_ENV_VAR=EXAMPLE_VALUE', '-e', 'AZUREML_CONTEXT_MANAGER_OUTPUTCOLLECTION=null', '-e', 'AZUREML_CONTEXT_MANAGER_PROJECTPYTHONPATH=null', '-e', 'AZUREML_RUN_TOKEN_EXPIRY=1552671531', '-e', 'AZUREML_RUN_TOKEN=eyJhbGciOiJSUzI1NiIsImtpZCI6IkJBNjc3ODI3MjY0NEFBOUMwNDJGMDJBMzgxQzk5NDU2NjBCMDRBNUQiLCJ0eXAiOiJKV1QifQ.eyJyb2xlIjoiQ29udHJpYnV0b3IiLCJzY29wZSI6Ii9zdWJzY3JpcHRpb25zL2VkZjUwN2EyLTYyMzUtNDZjNS1iNTYwLWZkNDYzYmEyZTc3MS9yZXNvdXJjZUdyb3Vwcy9naGlvcmRhblJvMTZuMXJzZzAyL3Byb3ZpZGVycy9NaWNyb3NvZnQuTWFjaGluZUxlYXJuaW5nU2VydmljZXMvd29ya3NwYWNlcy9naGlvcmRhbnJlZ3VsYXJycmVhbHRpbWV3cyIsImFjY291bnRpZCI6IjAwMDAwMDAwLTAwMDAtMDAwMC0wMDAwLTAwMDAwMDAwMDAwMCIsIndvcmtzcGFjZUlkIjoiMDJkYjg1MzMtMTQxOC00MmRlLWEwMGEtMTM2M2UyMzlhN2IzIiwicHJvamVjdGlkIjoiZjhmZTEyYzQtODNmYi00M2E1LWIxNGMtYTFiNDYzNDhkNjcyIiwiZGlzY292ZXJ5IjoidXJpOi8vZGlzY292ZXJ5dXJpLyIsInRpZCI6IjcyZjk4OGJmLTg2ZjEtNDFhZi05MWFiLTJkN2NkMDExZGI0NyIsIm9pZCI6ImZiN2QyYmJmLTJjNTQtNDZkNy04Nzc1LTdlMzE4NjQ0ZGQ2YiIsImV4cCI6MTU1MjY3MTUzMSwiaXNzIjoiYXp1cmVtbCIsImF1ZCI6ImF6dXJlbWwifQ.Fd6GfCJDNXC1OEPH4KuUPVtLlOBZKCpNwPBUSKB4JSM16QhspURhjU_gNXC7WAeq0CM6NKu30YMkcCwkWOk3ysi43c73_jiSkcpDT0hAc-6lBstIPTQXxUGJOTW8OzDMrw788T8uSPPtT0OR6Mu7aqCb5MjB7xJmZT1gZvS4hnqsmlbBNQkrhSoXcGIIl1kuCftUJtrXczYTg6Q6ML2CyDV6FPK8hIngCgnmDbCxC5b4qpax9b87JZUQPXWgOz7MUkw7ooVBpg7GJM9gCBZyQvXQOcCsQVShTlfPHCCmv8Bb5IdzMDElz-2xQTkcnxgJeh1472mvlyAUDKAiKRH1lQ', '-e', 'PYTHONUNBUFFERED=True', '-e', 'AZUREML_COMMUNICATOR=None', '-e', 'AZUREML_FRAMEWORK=Python', '-e', 'AZUREML_ARM_PROJECT_NAME=ghiordan_test_R_scoring_script', '-e', 'AZUREML_ARM_WORKSPACE_NAME=ghiordanregularrrealtimews', '-e', 'AZUREML_ARM_SUBSCRIPTION=edf507a2-6235-46c5-b560-fd463ba2e771', '-e', 'AZUREML_ARM_RESOURCEGROUP=ghiordanRo16n1rsg02', '-e', 'AZUREML_EXPERIMENT_SCOPE=/subscriptions/edf507a2-6235-46c5-b560-fd463ba2e771/resourceGroups/ghiordanRo16n1rsg02/providers/Microsoft.MachineLearningServices/workspaces/ghiordanregularrrealtimews/experiments/ghiordan_test_R_scoring_script', '-e', 'AZUREML_WORKSPACE_SCOPE=/subscriptions/edf507a2-6235-46c5-b560-fd463ba2e771/resourceGroups/ghiordanRo16n1rsg02/providers/Microsoft.MachineLearningServices/workspaces/ghiordanregularrrealtimews', '-e', 'AZUREML_DISCOVERY_SERVICE_ENDPOINT=https://eastus2.experiments.azureml.net/discovery', '-e', 'AZUREML_SERVICE_ENDPOINT=https://eastus2.experiments.azureml.net', '-e', 'AZUREML_RUN_CONFIGURATION=azureml-setup/mutated_run_configuration.json', '-e', 'AZUREML_INSTRUMENTATION_KEY=2d586587-4df8-4336-9af2-277fe3c5d9cd', '-e', 'AZUREML_DRIVERLOG_PATH=azureml-logs/driver_log.txt', '-e', 'AZUREML_CONTROLLOG_PATH=azureml-logs/control_log.txt', '-e', 'AZUREML_LOGDIRECTORY_PATH=azureml-logs/', '-e', 'AZUREML_PIDFILE_PATH=azureml-setup/pid.txt', '-e', 'AZUREML_RUN_ID=ghiordan_test_R_scoring_script_1552066598_7071fb24', 'azureml/azureml_6a5da0d9647c03aec276af894c27d83b', '/bin/bash', '-c', 'cd /azureml-run && \"/azureml-envs/azureml_93ff344e89b19084da4a6791da55a8c6/bin/python\" \"azureml-setup/run_script.py\" \"/azureml-envs/azureml_93ff344e89b19084da4a6791da55a8c6/bin/python\" \"azureml-setup/context_manager_injector.py\" \"-i\" \"ProjectPythonPath:context_managers.ProjectPythonPath\" \"-i\" \"OutputCollection:context_managers.RunHistory\" \"score_script.py\"']\n",
      "Streaming log file azureml-logs/80_driver_log.txt\n",
      "\n",
      "Streaming azureml-logs/80_driver_log.txt\n",
      "========================================\n",
      "\n",
      "rpy2 version 2.9.1;  R version ('3', '5.1', '', 74947)\n",
      "R model AML name: azureml-models/trained_r_model/1/ksvm_model01.rds\n",
      "AML o16n init() function: SVM model loaded.\n",
      "        -1         1\n",
      "0   0.0210  0.979000\n",
      "1   0.0002  0.999800\n",
      "2   0.0936  0.906400\n",
      "3   0.0005  0.999500\n",
      "4   0.0002  0.999800\n",
      "5   0.8808  0.119200\n",
      "6   0.9994  0.000600\n",
      "7   0.0495  0.950500\n",
      "8   0.8608  0.139200\n",
      "9   0.8171  0.182900\n",
      "10  1.0000  0.000008\n",
      "11  1.0000  0.000004\n",
      "12  0.0694  0.930600\n",
      "13  0.9864  0.013600\n",
      "14  0.9999  0.000100\n",
      "15  0.0001  0.999900\n",
      "16  0.9996  0.000400\n",
      "17  0.0103  0.989700\n",
      "18  0.7011  0.298900\n",
      "19  0.0413  0.958700\n",
      "20  0.0833  0.916700\n",
      "21  1.0000  0.000005\n",
      "22  0.6554  0.344600\n",
      "23  0.0002  0.999800\n",
      "24  0.9993  0.000700\n",
      "25  0.0085  0.991500\n",
      "26  1.0000  0.000000\n",
      "27  0.0467  0.953300\n",
      "28  0.0001  0.999900\n",
      "29  0.0063  0.993700\n",
      "..     ...       ...\n",
      "70  0.0781  0.921900\n",
      "71  0.9540  0.046000\n",
      "72  0.9962  0.003800\n",
      "73  0.9986  0.001400\n",
      "74  0.9892  0.010800\n",
      "75  0.0840  0.916000\n",
      "76  1.0000  0.000006\n",
      "77  0.6025  0.397500\n",
      "78  0.0002  0.999800\n",
      "79  0.1348  0.865200\n",
      "80  0.9997  0.000300\n",
      "81  0.0006  0.999400\n",
      "82  1.0000  0.000002\n",
      "83  0.9997  0.000300\n",
      "84  1.0000  0.000007\n",
      "85  0.0012  0.998800\n",
      "86  0.9493  0.050700\n",
      "87  1.0000  0.000005\n",
      "88  0.0031  0.996900\n",
      "89  1.0000  0.000002\n",
      "90  1.0000  0.000000\n",
      "91  0.9994  0.000600\n",
      "92  0.6692  0.330800\n",
      "93  0.0022  0.997800\n",
      "94  1.0000  0.000008\n",
      "95  0.9939  0.006100\n",
      "96  0.0341  0.965900\n",
      "97  0.2146  0.785400\n",
      "98  0.0006  0.999400\n",
      "99  0.1734  0.826600\n",
      "\n",
      "[100 rows x 2 columns]\n",
      "              _row elapsed sys.self user.self\n",
      "0       all_r_time   18.00     4.00     85.00\n",
      "1  json_to_df_time    1.00     0.00      2.00\n",
      "84.89 ms all_p_time\n",
      "0.06 ms python_to_R_time\n",
      "0.05 ms R_to_python_time\n",
      "Exited main() function\n",
      "\n",
      "\n",
      "The experiment completed successfully. Finalizing run...\n",
      "Logging experiment finalizing status in history service\n",
      "Cleaning up all outstanding Run operations, waiting 300.0 seconds\n",
      "3 items cleaning up...\n",
      "Cleanup took 0.30246758460998535 seconds\n",
      "\n",
      "Execution Summary\n",
      "=================\n",
      "RunId: ghiordan_test_R_scoring_script_1552066598_7071fb24\n",
      "\n",
      "CPU times: user 6.52 s, sys: 440 ms, total: 6.96 s\n",
      "Wall time: 5min 6s\n"
     ]
    }
   ],
   "source": [
    "%%time \n",
    "\n",
    "from azureml.core import Run\n",
    "from azureml.core import ScriptRunConfig\n",
    "\n",
    "src = ScriptRunConfig(source_directory = experiment_dir, script = score_script_filename, run_config = run_config)\n",
    "run = exp.submit(src)\n",
    "run.wait_for_completion(show_output = True)\n",
    "run.get_portal_url()\n",
    "\n"
   ]
  },
  {
   "cell_type": "code",
   "execution_count": 24,
   "metadata": {},
   "outputs": [
    {
     "name": "stdout",
     "output_type": "stream",
     "text": [
      "https://mlworkspace.azure.ai/portal/subscriptions/edf507a2-6235-46c5-b560-fd463ba2e771/resourceGroups/ghiordanRo16n1rsg02/providers/Microsoft.MachineLearningServices/workspaces/ghiordanregularrrealtimews/experiments/ghiordan_test_R_scoring_script/runs/ghiordan_test_R_scoring_script_1552066598_7071fb24\n"
     ]
    }
   ],
   "source": [
    "# # to recover a previous run\n",
    "# run = Run(exp, 'runID')\n",
    "\n",
    "print(run.get_portal_url())\n",
    "\n",
    "# # to get more details\n",
    "# run.get_details_with_logs()"
   ]
  },
  {
   "cell_type": "markdown",
   "metadata": {},
   "source": [
    "#### We are now ready for deployment. In the next notebook we will deploy image as web service on Azure Container Instance\n"
   ]
  },
  {
   "cell_type": "code",
   "execution_count": 25,
   "metadata": {},
   "outputs": [
    {
     "name": "stdout",
     "output_type": "stream",
     "text": [
      "[NbConvertApp] Converting notebook 010_RegularR_RealTime_test_score_in_docker.ipynb to html\n",
      "[NbConvertApp] Writing 357069 bytes to 010_RegularR_RealTime_test_score_in_docker.html\n"
     ]
    }
   ],
   "source": [
    "!jupyter nbconvert --to html 010_RegularR_RealTime_test_score_in_docker.ipynb"
   ]
  }
 ],
 "metadata": {
  "kernelspec": {
   "display_name": "Python 3",
   "language": "python",
   "name": "python3"
  },
  "language_info": {
   "codemirror_mode": {
    "name": "ipython",
    "version": 3
   },
   "file_extension": ".py",
   "mimetype": "text/x-python",
   "name": "python",
   "nbconvert_exporter": "python",
   "pygments_lexer": "ipython3",
   "version": "3.6.8"
  }
 },
 "nbformat": 4,
 "nbformat_minor": 2
}
