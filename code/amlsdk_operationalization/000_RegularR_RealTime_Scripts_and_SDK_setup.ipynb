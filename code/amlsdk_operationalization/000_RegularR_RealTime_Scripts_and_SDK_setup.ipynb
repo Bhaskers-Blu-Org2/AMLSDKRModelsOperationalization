{
 "cells": [
  {
   "cell_type": "markdown",
   "metadata": {},
   "source": [
    "### Copyright (C) Microsoft Corporation.  \n",
    "  \n",
    "# Deploy regular ML R model in Azure AKS/ACI using AML SDK\n",
    "Purpose: \n",
    "* use notebook as an IDE to edit and save auxiliary scripts on disk  \n",
    "* set-up AML SDK infra-structure\n",
    "  \n",
    "#### Authors\n",
    "\n",
    "* **George Iordanescu** - *Initial work* - [Microsoft AI CAT](https://github.com/Azure/o16nRegularMLRmodelsUsingAzurek8s)\n",
    "\n",
    "See also the list of [contributors](https://github.com/Azure/o16nRegularMLRmodelsUsingAzurek8s/contributors) who participated in this project.  "
   ]
  },
  {
   "cell_type": "code",
   "execution_count": 1,
   "metadata": {},
   "outputs": [],
   "source": [
    "# Allow multiple displays per cell\n",
    "from IPython.core.interactiveshell import InteractiveShell\n",
    "InteractiveShell.ast_node_interactivity = \"all\""
   ]
  },
  {
   "cell_type": "code",
   "execution_count": 2,
   "metadata": {},
   "outputs": [
    {
     "name": "stdout",
     "output_type": "stream",
     "text": [
      "SDK version: 1.0.17\n"
     ]
    },
    {
     "data": {
      "text/plain": [
       "'Linux-4.9.125-linuxkit-x86_64-with-debian-9.5'"
      ]
     },
     "execution_count": 2,
     "metadata": {},
     "output_type": "execute_result"
    },
    {
     "data": {
      "text/plain": [
       "'/workspace/code/amlsdk_operationalization'"
      ]
     },
     "execution_count": 2,
     "metadata": {},
     "output_type": "execute_result"
    }
   ],
   "source": [
    "# Check core SDK version number, os info and current wd\n",
    "import azureml.core\n",
    "\n",
    "from azureml.core import Workspace\n",
    "\n",
    "print(\"SDK version:\", azureml.core.VERSION)\n",
    "\n",
    "import platform\n",
    "platform.platform()\n",
    "\n",
    "import os\n",
    "os.getcwd()"
   ]
  },
  {
   "cell_type": "markdown",
   "metadata": {},
   "source": [
    "### 1. Edit auxiliary .py files"
   ]
  },
  {
   "cell_type": "code",
   "execution_count": 3,
   "metadata": {},
   "outputs": [],
   "source": [
    "utils_file_name = 'o16n_regular_ML_R_models_utils'\n",
    "auxiliary_files_dir = os.path.join(*(['.', 'src']))"
   ]
  },
  {
   "cell_type": "code",
   "execution_count": 4,
   "metadata": {},
   "outputs": [
    {
     "data": {
      "text/plain": [
       "'/workspace/code/amlsdk_operationalization/./src/o16n_regular_ML_R_models_utils.py'"
      ]
     },
     "execution_count": 4,
     "metadata": {},
     "output_type": "execute_result"
    }
   ],
   "source": [
    "utils_path_name = os.path.join(os.getcwd(), auxiliary_files_dir)\n",
    "utils_full_name = os.path.join(utils_path_name, os.path.join(*([utils_file_name+'.py'])))\n",
    "utils_full_name\n",
    "if not (os.path.isdir(utils_path_name)): os.mkdir(utils_path_name) "
   ]
  },
  {
   "cell_type": "code",
   "execution_count": 5,
   "metadata": {},
   "outputs": [
    {
     "name": "stdout",
     "output_type": "stream",
     "text": [
      "Overwriting /workspace/code/amlsdk_operationalization/./src/o16n_regular_ML_R_models_utils.py\n"
     ]
    }
   ],
   "source": [
    "%%writefile $utils_full_name\n",
    "\n",
    "from azureml.core.authentication import ServicePrincipalAuthentication\n",
    "from azureml.core.authentication import AzureCliAuthentication\n",
    "from azureml.core.authentication import InteractiveLoginAuthentication\n",
    "from azureml.core.authentication import AuthenticationException\n",
    "import dotenv, logging, pathlib\n",
    "\n",
    "\n",
    "#  credit Mathew Salvaris\n",
    "def get_auth(env_path):\n",
    "    \"\"\"Tries to get authorization info by first trying to get Service Principal info, then CLI, then interactive. \n",
    "    \"\"\"\n",
    "    logger = logging.getLogger(__name__)\n",
    "    crt_sp_pwd = dotenv.get_key(env_path, 'SP_PASSWORD')\n",
    "    if  crt_sp_pwd != \"YOUR_SERVICE_PRINCIPAL_PASSWORD\":\n",
    "        logger.debug(\"Trying to create Workspace with Service Principal\")\n",
    "        aml_sp_password = crt_sp_pwd\n",
    "        aml_sp_tennant_id = dotenv.get_key(env_path, 'SP_TENANT_ID')\n",
    "        aml_sp_username = dotenv.get_key(env_path, 'SP_APPLICATION_ID')\n",
    "        auth = ServicePrincipalAuthentication(\n",
    "            tenant_id=aml_sp_tennant_id,\n",
    "            username=aml_sp_username,\n",
    "            password=aml_sp_password,\n",
    "        )\n",
    "    else:\n",
    "        logger.debug(\"Trying to create Workspace with CLI Authentication\")\n",
    "        try:\n",
    "            auth = AzureCliAuthentication()\n",
    "            auth.get_authentication_header()\n",
    "        except AuthenticationException:\n",
    "            logger.debug(\"Trying to create Workspace with Interactive login\")\n",
    "            auth = InteractiveLoginAuthentication()\n",
    "\n",
    "    return auth  \n",
    "\n",
    "\n",
    "def set_dotenv_info(dotenv_file_path, env_dict):\n",
    "    \"\"\"Use dict loop to set multiple keys in dotenv file.\n",
    "    Minimal file error management.\n",
    "    \"\"\"\n",
    "    logger = logging.getLogger(__name__)\n",
    "    if bool(env_dict):\n",
    "        dotenv_file = pathlib.Path(dotenv_file_path)\n",
    "        if not dotenv_file.is_file():\n",
    "            logger.debug('dotenv file not found, will create \"{}\" using the sensitive info you provided.'.format(dotenv_file_path))\n",
    "            dotenv_file.touch()\n",
    "            for crt_key, crt_val in env_dict.items():\n",
    "                dotenv.set_key(dotenv_file_path, crt_key, crt_val)\n",
    "        else:\n",
    "            logger.debug('dotenv file \"{}\" found, will ignore current the sensitive info dictionary.'.format(dotenv_file_path))\n",
    "    else:\n",
    "       logger.debug(\\\n",
    "                    'Trying to save empty env_dict variable into {} , please set u your sensitive info in a dictionary.'\\\n",
    "                    .format(dotenv_file_path)) \n",
    "        \n",
    "\n",
    "class o16n_regular_ML_R_models_consts(object):\n",
    "    \"\"\"Keep project's file names and directory structure in one place.\n",
    "    Minimal setattr error management.\n",
    "    \"\"\"\n",
    "    \n",
    "    AML_WORKSPACE_CONFIG_DIR = ['..', '..',  'not_shared']\n",
    "    AML_WORKSPACE_CONFIG_FILE_NAME = 'aml_ws_config.json'\n",
    "    DOTENV_FILE_PATH = ['..',  '..',  'not_shared', 'general.env'] \n",
    "    \n",
    "    AML_EXPERIMENT_DIR = ['..', '..',  'temp']\n",
    "    SCORE_SCRIPT_FILE_NAME = 'score_script.py'\n",
    "    \n",
    "    R_MODEL_DIR = [ '..',  'R_experimentation'] \n",
    "    R_MODEL_AML_NAME = 'trained_r_model'\n",
    "    R_MODEL_FILE_NAME = 'ksvm_model01.rds'\n",
    "    R_MODEL_CONDA_DEPENDENCIES_FILE_NAME = 'conda_dependencies01.yml'\n",
    "    o16n_DOCKER_IMAGE_NAME = \"regml-r-realtime-image001\"\n",
    "\n",
    "    def __setattr__(self, *_):\n",
    "        raise TypeError\n",
    "\n",
    "        \n",
    "if __name__==\"__main__\":\n",
    "    \"\"\"Basic function/class tests.\n",
    "    \"\"\"\n",
    "    import sys, os\n",
    "    prj_consts = o16n_regular_ML_R_models_consts()\n",
    "    logger = logging.getLogger(__name__)\n",
    "    logging.basicConfig(level=logging.DEBUG) # Logging Levels: DEBUG\t10, NOTSET\t0\n",
    "    logger.debug('AML ws file = {}'.format(os.path.join(*([os.path.join(*(prj_consts.AML_WORKSPACE_CONFIG_DIR)),\n",
    "                                            prj_consts.AML_WORKSPACE_CONFIG_FILE_NAME]))))\n",
    "    logger.debug('full score script file name = {}'.format(os.path.join(*([os.path.join(*(prj_consts.AML_EXPERIMENT_DIR)),\n",
    "                                            prj_consts.SCORE_SCRIPT_FILE_NAME]))))\n",
    "    \n",
    "    \n",
    "    crt_dotenv_file_path = os.path.join(*(prj_consts.DOTENV_FILE_PATH))\n",
    "    set_dotenv_info(crt_dotenv_file_path, {})\n",
    "          "
   ]
  },
  {
   "cell_type": "code",
   "execution_count": 6,
   "metadata": {},
   "outputs": [
    {
     "data": {
      "text/plain": [
       "[None]"
      ]
     },
     "execution_count": 6,
     "metadata": {},
     "output_type": "execute_result"
    }
   ],
   "source": [
    "import sys, os\n",
    "\n",
    "def add_path_to_sys_path(path_to_append):\n",
    "    if not (any(path_to_append in paths for paths in sys.path)):\n",
    "        sys.path.append(path_to_append)\n",
    "        \n",
    "paths_to_append = [os.path.join(os.getcwd(), auxiliary_files_dir)]\n",
    "[add_path_to_sys_path(crt_path) for crt_path in paths_to_append]"
   ]
  },
  {
   "cell_type": "markdown",
   "metadata": {},
   "source": [
    "#### Run minimal function tests"
   ]
  },
  {
   "cell_type": "code",
   "execution_count": 7,
   "metadata": {},
   "outputs": [
    {
     "name": "stdout",
     "output_type": "stream",
     "text": [
      "/workspace/code/amlsdk_operationalization\n",
      "DEBUG:__main__:AML ws file = ../../not_shared/aml_ws_config.json\n",
      "DEBUG:__main__:full score script file name = ../../temp/score_script.py\n",
      "DEBUG:__main__:Trying to save empty env_dict variable into ../../not_shared/general.env , please set u your sensitive info in a dictionary.\n"
     ]
    }
   ],
   "source": [
    "!pwd\n",
    "!python {os.path.join(*([auxiliary_files_dir,  utils_file_name+'.py']))}\n",
    "\n",
    "# import subprocess\n",
    "# subprocess.call(['python '+os.path.join(*([auxiliary_files_dir,  utils_file_name+'.py']))])"
   ]
  },
  {
   "cell_type": "markdown",
   "metadata": {},
   "source": [
    "### 2. Set-up the AML SDK infrastructure\n",
    "\n",
    "* Create Azure resource group (rsg),  workspaces, \n",
    "* save sensitive info using [python-dotenv](https://github.com/theskumar/python-dotenv)  \n",
    "  \n",
    "Notebook repeateability notes:\n",
    "* The notebook tries to find the Azure resource group (rsg) defined by __crt_resource_group__. It creates a new one if needed.  Existing rsg-s will have to be manually deleted via SDK or portal."
   ]
  },
  {
   "cell_type": "markdown",
   "metadata": {},
   "source": [
    "#### 2.1 To recreate the whole process, choosing a new rsg is enough. Changing variables crt_workspace_name and crt_workspace_region below is optional"
   ]
  },
  {
   "cell_type": "code",
   "execution_count": 8,
   "metadata": {},
   "outputs": [],
   "source": [
    "import o16n_regular_ML_R_models_utils\n",
    "prj_consts = o16n_regular_ML_R_models_utils.o16n_regular_ML_R_models_consts()\n",
    "\n",
    "crt_resource_group  = 'ghiordanRo16n1rsg02'"
   ]
  },
  {
   "cell_type": "code",
   "execution_count": 9,
   "metadata": {},
   "outputs": [
    {
     "data": {
      "text/plain": [
       "'ghiordanRo16n1rsg02'"
      ]
     },
     "execution_count": 9,
     "metadata": {},
     "output_type": "execute_result"
    },
    {
     "data": {
      "text/plain": [
       "'ghiordanregularrrealtimews'"
      ]
     },
     "execution_count": 9,
     "metadata": {},
     "output_type": "execute_result"
    }
   ],
   "source": [
    "crt_workspace_name = 'ghiordanregularrrealtimews'\n",
    "crt_workspace_region = \"eastus2\" # or eastus2euap\n",
    "\n",
    "crt_resource_group\n",
    "crt_workspace_name"
   ]
  },
  {
   "cell_type": "markdown",
   "metadata": {},
   "source": [
    "#### 2.2 dotenv is used to hide sensitive info, like Azure subscription name/ID. The serialized info needs to be manually input once, in the following cells"
   ]
  },
  {
   "cell_type": "markdown",
   "metadata": {},
   "source": [
    "#### Define project params in dotenv file\n",
    "Uncomment all lines below, add the required info, and then run the cell once. This will create .env file. You can then leave as is (i.e. uncommented) the whole cell. The cell content will be ignored and the saved .env file will be used instead in each cell that starts with %dotenv. Using an empty sensitive_info dict is also ignored. "
   ]
  },
  {
   "cell_type": "code",
   "execution_count": 10,
   "metadata": {},
   "outputs": [],
   "source": [
    "sensitive_info = {}\n",
    "# # Your sensitive info here \n",
    "# sensitive_info = {\n",
    "# 'SUBSCRIPTION_ID':'xxx',\n",
    "# 'COMPUTE_CONTEXT_VM_USER_NAME':'xxx',\n",
    "# 'COMPUTE_CONTEXT_VM_FQDN':'somevm.eastus2.cloudapp.azure.com',\n",
    "# 'COMPUTE_CONTEXT_VM_SSH_PORT':str(22),\n",
    "# 'COMPUTE_CONTEXT_VM_PWD':'somepwd',\n",
    "# 'SP_TENANT_ID':\"YOUR_TENANT_ID\", # Optional for service principal authentication\n",
    "# 'SP_APPLICATION_ID':\"YOUR_SERVICE_PRINCIPAL_APPLICATION_ID\", # Optional for service principal authentication\n",
    "# 'SP_PASSWORD':\"YOUR_SERVICE_PRINCIPAL_PASSWORD\" # Optional for service principal authentication\n",
    "# }"
   ]
  },
  {
   "cell_type": "markdown",
   "metadata": {},
   "source": [
    "##### Save sensitive info once"
   ]
  },
  {
   "cell_type": "code",
   "execution_count": 11,
   "metadata": {},
   "outputs": [
    {
     "data": {
      "text/plain": [
       "'../../not_shared/general.env'"
      ]
     },
     "execution_count": 11,
     "metadata": {},
     "output_type": "execute_result"
    }
   ],
   "source": [
    "%load_ext dotenv\n",
    "dotenv_file_path = os.path.join(*(prj_consts.DOTENV_FILE_PATH))\n",
    "\n",
    "#show .env file path\n",
    "dotenv_file_path\n",
    "\n",
    "#save your sensitive info\n",
    "o16n_regular_ML_R_models_utils.set_dotenv_info(dotenv_file_path, sensitive_info)"
   ]
  },
  {
   "cell_type": "markdown",
   "metadata": {},
   "source": [
    "##### Use (load) saved sensitive info"
   ]
  },
  {
   "cell_type": "code",
   "execution_count": 12,
   "metadata": {},
   "outputs": [
    {
     "data": {
      "text/plain": [
       "'ed'"
      ]
     },
     "execution_count": 12,
     "metadata": {},
     "output_type": "execute_result"
    }
   ],
   "source": [
    "%dotenv $dotenv_file_path\n",
    "\n",
    "import os\n",
    "#print a bit of subscription ID, to show dotenv file was found adn loaded \n",
    "subscription_id = os.getenv('SUBSCRIPTION_ID')\n",
    "subscription_id[:2]"
   ]
  },
  {
   "cell_type": "markdown",
   "metadata": {},
   "source": [
    "### Access your workspace\n",
    "The following cell uses the Azure ML SDK to attempt to load the workspace specified by your parameters. If this cell succeeds, your notebook library will be configured to access the workspace from all notebooks using the Workspace.from_config() method. The cell can fail if the specified workspace doesn't exist or you don't have permissions to access it."
   ]
  },
  {
   "cell_type": "code",
   "execution_count": 13,
   "metadata": {},
   "outputs": [
    {
     "data": {
      "text/plain": [
       "'../../not_shared'"
      ]
     },
     "execution_count": 13,
     "metadata": {},
     "output_type": "execute_result"
    },
    {
     "name": "stdout",
     "output_type": "stream",
     "text": [
      "/workspace/code/amlsdk_operationalization/../../not_shared\n",
      "total 9\n",
      "drwxrwxrwx 2 root root   0 Feb 27 16:23 aml_config\n",
      "-rwxr-xr-x 1 root root 999 Mar  2 02:56 general - Copy.env\n",
      "-rwxr-xr-x 1 root root 904 Mar  6 02:31 general.env\n",
      "-rwxr-xr-x 1 root root 388 Mar  7 22:00 o16ninfo.env\n"
     ]
    },
    {
     "data": {
      "text/plain": [
       "'/workspace/code/amlsdk_operationalization/../../not_shared/aml_ws_config.json'"
      ]
     },
     "execution_count": 13,
     "metadata": {},
     "output_type": "execute_result"
    }
   ],
   "source": [
    "# azureml/core/workspace.py  write_config() The path defaults to the current working directory and file_name defaults to 'config.json'\n",
    "\n",
    "workspace_config_dir = os.path.join(*(prj_consts.AML_WORKSPACE_CONFIG_DIR))\n",
    "workspace_config_dir\n",
    "workspace_config_file = prj_consts.AML_WORKSPACE_CONFIG_FILE_NAME\n",
    "\n",
    "ws_config_file_full_name = os.path.join(os.getcwd(), os.path.join(*([workspace_config_dir,  workspace_config_file])))\n",
    "crt_dir = os.path.join(os.getcwd(), os.path.join(*([workspace_config_dir])))\n",
    "if not (os.path.isdir(crt_dir)): os.mkdir(crt_dir)\n",
    "\n",
    "!chmod ugo=rwx {os.path.join(os.getcwd(), os.path.join(*([workspace_config_dir])))}\n",
    "!echo {os.path.join(os.getcwd(), os.path.join(*([workspace_config_dir])))}\n",
    "!ls -l {os.path.join(os.getcwd(), os.path.join(*([workspace_config_dir])))}\n",
    "ws_config_file_full_name"
   ]
  },
  {
   "cell_type": "markdown",
   "metadata": {},
   "source": [
    "#### In AML sdk we can get a ws in two ways:\n",
    "\n",
    "* Either via Workspace(subscription_id = ...) or via Workspace.from_config(path=some_file_path). Either way of recovering an existing ws is fine, but for demo purposes, both ways are shown in this notebook.\n",
    "\n",
    "*  We first try how to use Workspace(subscription_id = ...) way. If ws is not found, a new ws object is created and persisted on disk.\n",
    "\n",
    "* If this is the first time you are running this notebook, and the ws has already been created before, you may save its info on disk by uncommenting ws1.write_config(...) below\n"
   ]
  },
  {
   "cell_type": "code",
   "execution_count": 14,
   "metadata": {},
   "outputs": [
    {
     "name": "stdout",
     "output_type": "stream",
     "text": [
      "Workspace configuration succeeded. \n"
     ]
    }
   ],
   "source": [
    "from azureml.core import Workspace\n",
    "\n",
    "try:\n",
    "    ws1 = Workspace(\n",
    "        subscription_id = subscription_id, \n",
    "        resource_group = crt_resource_group, \n",
    "        workspace_name = crt_workspace_name,\n",
    "        auth=o16n_regular_ML_R_models_utils.get_auth(dotenv_file_path))\n",
    "    print(\"Workspace configuration succeeded. \")\n",
    "    \n",
    "#     ws1.write_config(path=os.path.join(os.getcwd(), os.path.join(*([workspace_config_dir]))),\n",
    "#             file_name=workspace_config_file)\n",
    "    del ws1 # ws will be (re)created later using from_config() function\n",
    "except Exception as e :\n",
    "    print('Exception msg: {}'.format(str(e )))\n",
    "    print(\"Workspace not accessible. Will create a new workspace below\")\n",
    "    \n",
    "    workspace_region = crt_workspace_region\n",
    "\n",
    "    # Create the workspace using the specified parameters\n",
    "    ws2 = Workspace.create(name = crt_workspace_name,\n",
    "                          subscription_id = subscription_id,\n",
    "                          resource_group = crt_resource_group, \n",
    "                          location = workspace_region,\n",
    "                          create_resource_group = True,\n",
    "                          exist_ok = False)\n",
    "    ws2.get_details()\n",
    "\n",
    "    # persist the subscription id, resource group name, and workspace name in aml_config/config.json.\n",
    "    ws2.write_config(path=os.path.join(os.getcwd(), os.path.join(*([workspace_config_dir]))),\n",
    "            file_name=workspace_config_file)\n",
    "    \n",
    "    #use ws = Workspace.from_config() lower to recover the ws, rather than rely on what we get from one time creation\n",
    "    del ws2"
   ]
  },
  {
   "cell_type": "markdown",
   "metadata": {},
   "source": [
    "#### From now on, even in other notebooks, the provisioned AML workspace will be accesible using:\n",
    "```\n",
    "ws = Workspace.from_config(some_AML_SDK_workspace_config_file)\n",
    "```"
   ]
  },
  {
   "cell_type": "code",
   "execution_count": 15,
   "metadata": {},
   "outputs": [
    {
     "name": "stdout",
     "output_type": "stream",
     "text": [
      "Found the config file in: /workspace/not_shared/aml_config/aml_ws_config.json\n",
      "ghiordanregularrrealtimews\n",
      "ghiordanRo16n1rsg02\n",
      "eastus2\n",
      "e\n"
     ]
    }
   ],
   "source": [
    "# path arg is:\n",
    "#   - a file path which explictly lists aml_config subdir for function from_config() \n",
    "#   - a dir path with a silently added <<aml_config>> subdir for function write_config(). \n",
    "ws = Workspace.from_config(path=os.path.join(os.getcwd(), \n",
    "                                             os.path.join(*([workspace_config_dir, 'aml_config', workspace_config_file]))))\n",
    "print(ws.name, ws.resource_group, ws.location, ws.subscription_id[0], sep = '\\n')\n",
    "del ws"
   ]
  },
  {
   "cell_type": "code",
   "execution_count": 16,
   "metadata": {},
   "outputs": [
    {
     "name": "stdout",
     "output_type": "stream",
     "text": [
      "[NbConvertApp] Converting notebook 000_RegularR_RealTime_Scripts_and_SDK_setup.ipynb to html\n",
      "[NbConvertApp] Writing 302176 bytes to 000_RegularR_RealTime_Scripts_and_SDK_setup.html\n"
     ]
    }
   ],
   "source": [
    "!jupyter nbconvert --to html 000_RegularR_RealTime_Scripts_and_SDK_setup.ipynb"
   ]
  }
 ],
 "metadata": {
  "kernelspec": {
   "display_name": "Python 3",
   "language": "python",
   "name": "python3"
  },
  "language_info": {
   "codemirror_mode": {
    "name": "ipython",
    "version": 3
   },
   "file_extension": ".py",
   "mimetype": "text/x-python",
   "name": "python",
   "nbconvert_exporter": "python",
   "pygments_lexer": "ipython3",
   "version": "3.6.8"
  }
 },
 "nbformat": 4,
 "nbformat_minor": 2
}
