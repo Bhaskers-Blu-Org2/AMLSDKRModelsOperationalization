{
 "cells": [
  {
   "cell_type": "markdown",
   "metadata": {},
   "source": [
    "### Copyright (C) Microsoft Corporation.  \n",
    "  \n",
    "# Create utility scripts and set-up AML SDK account (create AML workspace)\n",
    "  \n",
    "Notebook is used as an IDE to edit and save auxiliary .py scripts. AML SDK infra-structure is set up here once before being re-used in the other project notebooks.\n",
    "\n",
    "## Required steps:\n",
    "* See instructions in [section 2.1](#2.1-Input-here-sensitive-and-configuration-information) and edit the following cell to fill in custom and sensitive information in the __sensitive_info__ dictionary variable. \n",
    "* Review cells in [section 1](#1.-Edit-auxiliary-.py-files) below if needed. Edit the constants defined in __o16n_regular_ML_R_models_consts__ class if you wish to have a different directory structure.\n",
    "* Login into Azure may be required in Section [2.3](#2.3-Login-into-Azure-may-be-required-here)"
   ]
  },
  {
   "cell_type": "code",
   "execution_count": null,
   "metadata": {},
   "outputs": [],
   "source": [
    "# Allow multiple displays per cell\n",
    "from IPython.core.interactiveshell import InteractiveShell\n",
    "InteractiveShell.ast_node_interactivity = \"all\""
   ]
  },
  {
   "cell_type": "code",
   "execution_count": null,
   "metadata": {},
   "outputs": [],
   "source": [
    "import azureml.core\n",
    "from azureml.core import Workspace\n",
    "import sys, os\n"
   ]
  },
  {
   "cell_type": "code",
   "execution_count": null,
   "metadata": {},
   "outputs": [],
   "source": [
    "# Check core SDK version number, os info and current wd\n",
    "print(\"SDK version:\", azureml.core.VERSION)\n",
    "\n",
    "import platform\n",
    "platform.platform()\n",
    "\n",
    "# os.getcwd()"
   ]
  },
  {
   "cell_type": "markdown",
   "metadata": {},
   "source": [
    "#### Define utilities file path"
   ]
  },
  {
   "cell_type": "code",
   "execution_count": null,
   "metadata": {},
   "outputs": [],
   "source": [
    "utils_file_name = 'o16n_regular_ML_R_models_utils'\n",
    "auxiliary_files_dir = os.path.join(*(['.', 'src']))"
   ]
  },
  {
   "cell_type": "code",
   "execution_count": null,
   "metadata": {},
   "outputs": [],
   "source": [
    "utils_path_name = os.path.join(os.getcwd(), auxiliary_files_dir)\n",
    "utils_full_name = os.path.join(utils_path_name, os.path.join(*([utils_file_name+'.py'])))\n",
    "os.makedirs(utils_path_name, exist_ok=True)\n",
    "    \n",
    "def ls_l(a_dir):\n",
    "    return ([f for f in os.listdir(a_dir) if os.path.isfile(os.path.join(a_dir, f))])     "
   ]
  },
  {
   "cell_type": "markdown",
   "metadata": {},
   "source": [
    "### 1. Edit auxiliary .py files"
   ]
  },
  {
   "cell_type": "code",
   "execution_count": null,
   "metadata": {},
   "outputs": [],
   "source": [
    "%%writefile $utils_full_name\n",
    "\n",
    "from azureml.core.authentication import ServicePrincipalAuthentication\n",
    "from azureml.core.authentication import AzureCliAuthentication\n",
    "from azureml.core.authentication import InteractiveLoginAuthentication\n",
    "from azureml.core.authentication import AuthenticationException\n",
    "import dotenv, logging, pathlib\n",
    "\n",
    "\n",
    "#  credit Mathew Salvaris\n",
    "def get_auth(env_path):\n",
    "    \"\"\"Tries to get authorization info by first trying to get Service Principal info, then CLI, then interactive. \n",
    "    \"\"\"\n",
    "    logger = logging.getLogger(__name__)\n",
    "    crt_sp_pwd = dotenv.get_key(env_path, 'SP_PASSWORD')\n",
    "    if  crt_sp_pwd != \"YOUR_SERVICE_PRINCIPAL_PASSWORD\":\n",
    "        logger.debug(\"Trying to create Workspace with Service Principal\")\n",
    "        aml_sp_password = crt_sp_pwd\n",
    "        aml_sp_tennant_id = dotenv.get_key(env_path, 'SP_TENANT_ID')\n",
    "        aml_sp_username = dotenv.get_key(env_path, 'SP_APPLICATION_ID')\n",
    "        auth = ServicePrincipalAuthentication(\n",
    "            tenant_id=aml_sp_tennant_id,\n",
    "            username=aml_sp_username,\n",
    "            password=aml_sp_password,\n",
    "        )\n",
    "    else:\n",
    "        logger.debug(\"Trying to create Workspace with CLI Authentication\")\n",
    "        try:\n",
    "            auth = AzureCliAuthentication()\n",
    "            auth.get_authentication_header()\n",
    "        except AuthenticationException:\n",
    "            logger.debug(\"Trying to create Workspace with Interactive login\")\n",
    "            auth = InteractiveLoginAuthentication()\n",
    "\n",
    "    return auth  \n",
    "\n",
    "\n",
    "def set_dotenv_info(dotenv_file_path, env_dict):\n",
    "    \"\"\"Use dict loop to set multiple keys in dotenv file.\n",
    "    Minimal file error management.\n",
    "    \"\"\"\n",
    "    logger = logging.getLogger(__name__)\n",
    "    if bool(env_dict):\n",
    "        dotenv_file = pathlib.Path(dotenv_file_path)\n",
    "        if not dotenv_file.is_file():\n",
    "            logger.debug('dotenv file not found, will create \"{}\" using the sensitive info you provided.'.format(dotenv_file_path))\n",
    "            dotenv_file.touch()\n",
    "        else:\n",
    "            logger.debug('dotenv file \"{}\" found, will overwrite it with current sensitive info you provided.'.format(dotenv_file_path))\n",
    "            \n",
    "        for crt_key, crt_val in env_dict.items():\n",
    "            dotenv.set_key(dotenv_file_path, crt_key, crt_val)\n",
    "\n",
    "    else:\n",
    "       logger.debug(\\\n",
    "                    'Trying to save empty env_dict variable into {} , please set u your sensitive info in a dictionary.'\\\n",
    "                    .format(dotenv_file_path)) \n",
    "        \n",
    "\n",
    "class R_models_operationalization_consts(object):\n",
    "    \"\"\"Keep project's file names and directory structure in one place.\n",
    "    Minimal setattr error management.\n",
    "    \"\"\"\n",
    "    \n",
    "    AML_WORKSPACE_CONFIG_DIR = ['..', '..',  'not_shared']\n",
    "    AML_WORKSPACE_CONFIG_FILE_NAME = 'aml_ws_config.json'\n",
    "    DOTENV_FILE_PATH = ['..',  '..',  'not_shared', 'general.env'] \n",
    "    \n",
    "    AML_EXPERIMENT_DIR = ['..', '..',  'temp']\n",
    "    SCORE_SCRIPT_FILE_NAME = 'score_script.py'\n",
    "    \n",
    "    R_MODEL_DIR = [ '..',  'R_experimentation'] \n",
    "    R_MODEL_AML_NAME = 'trained_r_model'\n",
    "    R_MODEL_FILE_NAME = 'ksvm_model01.rds'\n",
    "    R_MODEL_CONDA_DEPENDENCIES_FILE_NAME = 'conda_dependencies01.yml'\n",
    "    o16n_DOCKER_IMAGE_NAME = \"regml-r-realtime-image001\"\n",
    "\n",
    "    def __setattr__(self, *_):\n",
    "        raise TypeError\n",
    "\n",
    "        \n",
    "if __name__==\"__main__\":\n",
    "    \"\"\"Basic function/class tests.\n",
    "    \"\"\"\n",
    "    import sys, os\n",
    "    prj_consts = o16n_regular_ML_R_models_consts()\n",
    "    logger = logging.getLogger(__name__)\n",
    "    logging.basicConfig(level=logging.DEBUG) # Logging Levels: DEBUG\t10, NOTSET\t0\n",
    "    logger.debug('AML ws file = {}'.format(os.path.join(*([os.path.join(*(prj_consts.AML_WORKSPACE_CONFIG_DIR)),\n",
    "                                            prj_consts.AML_WORKSPACE_CONFIG_FILE_NAME]))))\n",
    "    logger.debug('full score script file name = {}'.format(os.path.join(*([os.path.join(*(prj_consts.AML_EXPERIMENT_DIR)),\n",
    "                                            prj_consts.SCORE_SCRIPT_FILE_NAME]))))\n",
    "    \n",
    "    \n",
    "    crt_dotenv_file_path = os.path.join(*(prj_consts.DOTENV_FILE_PATH))\n",
    "    set_dotenv_info(crt_dotenv_file_path, {})\n",
    "          "
   ]
  },
  {
   "cell_type": "markdown",
   "metadata": {},
   "source": [
    "#### Import utilities functions defined above"
   ]
  },
  {
   "cell_type": "code",
   "execution_count": null,
   "metadata": {},
   "outputs": [],
   "source": [
    "def add_path_to_sys_path(path_to_append):\n",
    "    if not (any(path_to_append in paths for paths in sys.path)):\n",
    "        sys.path.append(path_to_append)\n",
    "        \n",
    "paths_to_append = [os.path.join(os.getcwd(), auxiliary_files_dir)]\n",
    "[add_path_to_sys_path(crt_path) for crt_path in paths_to_append]"
   ]
  },
  {
   "cell_type": "code",
   "execution_count": null,
   "metadata": {},
   "outputs": [],
   "source": [
    "import o16n_regular_ML_R_models_utils\n",
    "prj_consts = o16n_regular_ML_R_models_utils.R_models_operationalization_consts()"
   ]
  },
  {
   "cell_type": "markdown",
   "metadata": {},
   "source": [
    "### 2. Set-up the AML SDK infrastructure\n",
    "\n",
    "* Create Azure resource group (rsg),  workspaces, \n",
    "* save sensitive info using [python-dotenv](https://github.com/theskumar/python-dotenv)  \n",
    "  \n",
    "Notebook repeateability notes:\n",
    "* The notebook tries to find and use an existing Azure resource group (rsg) defined by __crt_resource_group__. It creates a new one if needed. "
   ]
  },
  {
   "cell_type": "code",
   "execution_count": null,
   "metadata": {},
   "outputs": [],
   "source": [
    "sensitive_info = {}"
   ]
  },
  {
   "cell_type": "markdown",
   "metadata": {},
   "source": [
    "### 2.1 Input here sensitive and configuration information\n",
    "[dotenv](https://github.com/theskumar/python-dotenv) is used to hide sensitive info, like Azure subscription name/ID. The serialized info needs to be manually input once.  \n",
    "  \n",
    "* add the required info in cell below.  \n",
    "  The info will be packed in __sensitive_info__ dictionary variable, which that will then be saved in a following cell in an .env file (__dotenv_file_path__) that should likely be git ignored.  \n",
    "* For the COMPUTE_CONTEXT_VM_... information, if you used the __\"VM provisioning and configuration via Azure CLI\"__  [guide](https://github.com/Azure/AMLSDKOperationalizationRModels/blob/master/README.md) section, you should use the information you saved when running the CLI script to deploy the AML SDK Compute Target machine for this project. \n",
    "*  After running once this cell and the one that saves __sensitive_info__ dictionary variable with your custom info, you can comment/remove content in the sensitive info input cells and leave the __sensitive_info__ variable defined above as an empty python dictionary. \n",
    "* An empty __sensitive_info__ dictionary is ignored by the __set_dotenv_info__ function defined above in o16n_regular_ML_R_models_utils.py . \n",
    "* The saved .env file will be used thereafter in each cell that starts with %dotenv. \n",
    "* If you would like to [use service principal authentication](https://github.com/Azure/MachineLearningNotebooks/blob/master/how-to-use-azureml/manage-azureml-service/authentication-in-azureml/authentication-in-azure-ml.ipynb) make sure you provide the optional values as well."
   ]
  },
  {
   "cell_type": "code",
   "execution_count": null,
   "metadata": {
    "tags": [
     "parameters"
    ]
   },
   "outputs": [],
   "source": [
    "subscription_id=''\n",
    "resource_group=''\n",
    "workspace_name=''\n",
    "compute_context_vm_user_name=''\n",
    "compute_context_vm_fqdn='somevm.eastus2.cloudapp.azure.com'\n",
    "compute_context_vm_ssh_port='22'\n",
    "compute_context_vm_pwd='somepwd'\n",
    "\n",
    "# Optional, for service principal authentication. Leave untouched if SP is not used.\n",
    "sp_tenant_id=\"YOUR_TENANT_ID\" \n",
    "sp_application_id=\"YOUR_SERVICE_PRINCIPAL_APPLICATION_ID\"\n",
    "sp_password=\"YOUR_SERVICE_PRINCIPAL_PASSWORD\" "
   ]
  },
  {
   "cell_type": "code",
   "execution_count": null,
   "metadata": {},
   "outputs": [],
   "source": [
    "sensitive_info = {\n",
    "'SUBSCRIPTION_ID':subscription_id,\n",
    "'RESOURCE_GROUP':resource_group, \n",
    "'WORKSPACE_NAME':workspace_name, \n",
    "'COMPUTE_CONTEXT_VM_USER_NAME':compute_context_vm_user_name,\n",
    "'COMPUTE_CONTEXT_VM_FQDN':compute_context_vm_fqdn,\n",
    "'COMPUTE_CONTEXT_VM_SSH_PORT':str(compute_context_vm_ssh_port),\n",
    "'COMPUTE_CONTEXT_VM_PWD':compute_context_vm_pwd,\n",
    "'SP_TENANT_ID':sp_tenant_id, # service principal authentication is an anlternative to interactive login \n",
    "'SP_APPLICATION_ID':sp_application_id, \n",
    "'SP_PASSWORD':sp_password \n",
    "}"
   ]
  },
  {
   "cell_type": "markdown",
   "metadata": {},
   "source": [
    "##### Save sensitive info\n",
    "An empty __sensitive_info__ variable will be ingored.  \n",
    "A non-empty __sensitive_info__ variable will overwrite info in an existing .env file.  "
   ]
  },
  {
   "cell_type": "code",
   "execution_count": null,
   "metadata": {},
   "outputs": [],
   "source": [
    "%load_ext dotenv\n",
    "dotenv_file_path = os.path.join(*(prj_consts.DOTENV_FILE_PATH))\n",
    "os.makedirs(os.path.join(*(prj_consts.DOTENV_FILE_PATH[:-1])), exist_ok=True)\n",
    "\n",
    "# # show .env file path\n",
    "# dotenv_file_path\n",
    "\n",
    "#save your sensitive info\n",
    "o16n_regular_ML_R_models_utils.set_dotenv_info(dotenv_file_path, sensitive_info)"
   ]
  },
  {
   "cell_type": "markdown",
   "metadata": {},
   "source": [
    "##### Use (load) saved sensitive info"
   ]
  },
  {
   "cell_type": "code",
   "execution_count": null,
   "metadata": {},
   "outputs": [],
   "source": [
    "%dotenv $dotenv_file_path\n",
    "\n",
    "subscription_id = os.getenv('SUBSCRIPTION_ID')\n",
    "# # print a bit of subscription ID, to show dotenv file was found and loaded \n",
    "# subscription_id[:2]\n",
    "\n",
    "crt_resource_group  = os.getenv('RESOURCE_GROUP')\n",
    "crt_workspace_name = os.getenv('WORKSPACE_NAME')\n",
    "crt_workspace_region = \"eastus2\" # or eastus2euap"
   ]
  },
  {
   "cell_type": "markdown",
   "metadata": {},
   "source": [
    "### 2.2 Access your workspace"
   ]
  },
  {
   "cell_type": "markdown",
   "metadata": {},
   "source": [
    "* In AML SDK we can get a ws in two ways:  \n",
    "    - via Workspace(subscription_id = ...)   \n",
    "    - via Workspace.from_config(path=some_file_path).   \n",
    "    \n",
    "For demo purposes, both ways are shown in this notebook.\n",
    "\n",
    "*  At first notebook run:\n",
    "    - the AML workspace ws is typically not found, so a new ws object is created and persisted on disk.\n",
    "    - If the ws has been created other ways (e.g. via Azure portal), it may be persisted on disk by calling ws1.write_config(...)."
   ]
  },
  {
   "cell_type": "code",
   "execution_count": null,
   "metadata": {},
   "outputs": [],
   "source": [
    "workspace_config_dir = os.path.join(*(prj_consts.AML_WORKSPACE_CONFIG_DIR))\n",
    "workspace_config_file = prj_consts.AML_WORKSPACE_CONFIG_FILE_NAME\n",
    "\n",
    "# # print debug info if needed     \n",
    "# workspace_config_dir    \n",
    "# ls_l(os.path.join(os.getcwd(), os.path.join(*([workspace_config_dir]))))"
   ]
  },
  {
   "cell_type": "markdown",
   "metadata": {},
   "source": [
    "### 2.3 Login into Azure may be required here"
   ]
  },
  {
   "cell_type": "code",
   "execution_count": null,
   "metadata": {},
   "outputs": [],
   "source": [
    "try:\n",
    "    ws1 = Workspace(\n",
    "        subscription_id = subscription_id, \n",
    "        resource_group = crt_resource_group, \n",
    "        workspace_name = crt_workspace_name,\n",
    "        auth=o16n_regular_ML_R_models_utils.get_auth(dotenv_file_path))\n",
    "    print(\"Workspace configuration loading succeeded. \")\n",
    "    del ws1 # ws will be (re)created later using from_config() function\n",
    "except Exception as e :\n",
    "    print('Exception msg: {}'.format(str(e )))\n",
    "    print(\"Workspace not accessible. Will create a new workspace below\")\n",
    "    \n",
    "    workspace_region = crt_workspace_region\n",
    "\n",
    "    # Create the workspace using the specified parameters\n",
    "    ws2 = Workspace.create(name = crt_workspace_name,\n",
    "                          subscription_id = subscription_id,\n",
    "                          resource_group = crt_resource_group, \n",
    "                          location = workspace_region,\n",
    "                          create_resource_group = True,\n",
    "                          exist_ok = False)\n",
    "    ws2.get_details()\n",
    "\n",
    "    # persist the subscription id, resource group name, and workspace name in aml_config/config.json.\n",
    "    ws2.write_config(path=os.path.join(os.getcwd(), os.path.join(*([workspace_config_dir]))),\n",
    "            file_name=workspace_config_file)\n",
    "    \n",
    "    #use ws = Workspace.from_config() as shwon below to recover the ws, rather than rely on what we get from one time creation\n",
    "    del ws2"
   ]
  },
  {
   "cell_type": "markdown",
   "metadata": {},
   "source": [
    "#### From now on, even in other notebooks, the provisioned AML workspace will be accesible using Workspace.from_config() as shown below:"
   ]
  },
  {
   "cell_type": "code",
   "execution_count": null,
   "metadata": {},
   "outputs": [],
   "source": [
    "# path arg is:\n",
    "#   - a file path which explictly lists aml_config subdir for function from_config() \n",
    "#   - a dir path with a silently added <<aml_config>> subdir for function write_config(). \n",
    "ws = Workspace.from_config(path=os.path.join(os.getcwd(), \n",
    "                                             os.path.join(*([workspace_config_dir, 'aml_config', workspace_config_file]))))\n",
    "# # print debug info if needed\n",
    "# print(ws.name, ws.resource_group, ws.location, ws.subscription_id[0], sep = '\\n')\n",
    "del ws"
   ]
  },
  {
   "cell_type": "code",
   "execution_count": null,
   "metadata": {},
   "outputs": [],
   "source": [
    "!jupyter nbconvert --to html 000_RegularR_RealTime_Scripts_and_SDK_setup.ipynb"
   ]
  },
  {
   "cell_type": "code",
   "execution_count": null,
   "metadata": {},
   "outputs": [],
   "source": [
    "print('Finished running 000_RegularR_RealTime_Scripts_and_SDK_setup.ipynb!')"
   ]
  }
 ],
 "metadata": {
  "kernelspec": {
   "display_name": "Python 3",
   "language": "python",
   "name": "python3"
  },
  "language_info": {
   "codemirror_mode": {
    "name": "ipython",
    "version": 3
   },
   "file_extension": ".py",
   "mimetype": "text/x-python",
   "name": "python",
   "nbconvert_exporter": "python",
   "pygments_lexer": "ipython3",
   "version": "3.6.8"
  }
 },
 "nbformat": 4,
 "nbformat_minor": 2
}
