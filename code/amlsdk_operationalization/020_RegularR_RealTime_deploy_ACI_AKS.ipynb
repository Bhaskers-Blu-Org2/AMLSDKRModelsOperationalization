{
 "cells": [
  {
   "cell_type": "markdown",
   "metadata": {},
   "source": [
    "### Copyright (C) Microsoft Corporation.    \n",
    "  \n",
    "# Deploy regular ML R model in ACI and AKS\n",
    "  \n",
    "\n",
    "* Use the user provided R model and R scoring script embedded in the containerized Python operationalization (o16n) script to deloy R model at scale using [Azure Kubernetes Service](https://docs.microsoft.com/en-us/azure/aks/) "
   ]
  },
  {
   "cell_type": "code",
   "execution_count": null,
   "metadata": {},
   "outputs": [],
   "source": [
    "# Allow multiple displays per cell\n",
    "from IPython.core.interactiveshell import InteractiveShell\n",
    "InteractiveShell.ast_node_interactivity = \"all\""
   ]
  },
  {
   "cell_type": "code",
   "execution_count": null,
   "metadata": {
    "tags": [
     "parameters"
    ]
   },
   "outputs": [],
   "source": [
    "aci_service_name = 'r-svm-aci-service-01'\n",
    "aks_service_name ='ro16n-aks-srvc01'\n",
    "version_of_image_to_deploy = 1\n",
    "version_of_model_to_deploy = 1"
   ]
  },
  {
   "cell_type": "code",
   "execution_count": null,
   "metadata": {},
   "outputs": [],
   "source": [
    "import azureml.core\n",
    "import platform\n",
    "import sys, os\n",
    "from azureml.core import Workspace\n",
    "from azureml.core.model import Model\n",
    "from azureml.core.image import Image, ContainerImage\n",
    "\n",
    "def ls_l(a_dir):\n",
    "    return ([f for f in os.listdir(a_dir) if os.path.isfile(os.path.join(a_dir, f))]) "
   ]
  },
  {
   "cell_type": "code",
   "execution_count": null,
   "metadata": {},
   "outputs": [],
   "source": [
    "# Check core SDK version number, os info and current wd\n",
    "print(\"SDK version:\", azureml.core.VERSION)\n",
    "platform.platform()"
   ]
  },
  {
   "cell_type": "code",
   "execution_count": null,
   "metadata": {},
   "outputs": [],
   "source": [
    "# import utility functions\n",
    "def add_path_to_sys_path(path_to_append):\n",
    "    if not (any(path_to_append in paths for paths in sys.path)):\n",
    "        sys.path.append(path_to_append)\n",
    "\n",
    "add_path_to_sys_path(os.path.join(os.getcwd(), os.path.join(*(['.', 'src']))))\n",
    "\n",
    "import o16n_regular_ML_R_models_utils\n",
    "prj_consts = o16n_regular_ML_R_models_utils.R_models_operationalization_consts()"
   ]
  },
  {
   "cell_type": "markdown",
   "metadata": {},
   "source": [
    "#### Define some variables\n"
   ]
  },
  {
   "cell_type": "code",
   "execution_count": null,
   "metadata": {},
   "outputs": [],
   "source": [
    "# Define project params\n",
    "prj_consts = o16n_regular_ML_R_models_utils.R_models_operationalization_consts()\n",
    "\n",
    "experiment_dir = os.path.join(*(prj_consts.AML_EXPERIMENT_DIR))\n",
    "workspace_config_dir = os.path.join(*(prj_consts.AML_WORKSPACE_CONFIG_DIR))\n",
    "R_artifacts_dir = os.path.join(os.getcwd(), os.path.join(*(prj_consts.R_MODEL_DIR)))"
   ]
  },
  {
   "cell_type": "code",
   "execution_count": null,
   "metadata": {},
   "outputs": [],
   "source": [
    "# check if we have the right elements for o16n\n",
    "os.path.isfile( os.path.join(os.getcwd(), os.path.join(experiment_dir, prj_consts.R_MODEL_CONDA_DEPENDENCIES_FILE_NAME)))\n",
    "os.path.isfile( os.path.join(os.getcwd(), os.path.join(experiment_dir, prj_consts.SCORE_SCRIPT_FILE_NAME)))\n",
    "os.path.isfile(os.path.join(R_artifacts_dir, prj_consts.R_MODEL_FILE_NAME))"
   ]
  },
  {
   "cell_type": "markdown",
   "metadata": {},
   "source": [
    "## Initialize Workspace\n",
    "\n",
    "Initialize a workspace object configuration persisted in previous notebook."
   ]
  },
  {
   "cell_type": "code",
   "execution_count": null,
   "metadata": {},
   "outputs": [],
   "source": [
    "ws = Workspace.from_config(\n",
    "    path=os.path.join(os.getcwd(), \n",
    "                      os.path.join(*([workspace_config_dir, '.azureml', prj_consts.AML_WORKSPACE_CONFIG_FILE_NAME]))))\n",
    "\n",
    "# print(ws.name, ws.resource_group, ws.location, ws.subscription_id[0], sep = '\\n')"
   ]
  },
  {
   "cell_type": "markdown",
   "metadata": {},
   "source": [
    "#### We can register a model, and choose one of the registered ones for deployment. This step can be skipped since there should already be a model registered from the previous notebook."
   ]
  },
  {
   "cell_type": "code",
   "execution_count": null,
   "metadata": {},
   "outputs": [],
   "source": [
    "model_tags = {'language': 'R', 'type': 'TC_kSVM'}\n",
    "if not Model.list(ws, tags=model_tags):\n",
    "    model = Model.register(model_path = os.path.join(R_artifacts_dir, prj_consts.R_MODEL_FILE_NAME),\n",
    "                           model_name = prj_consts.R_MODEL_AML_NAME,\n",
    "                           tags = model_tags,\n",
    "                           description = 'my R model',\n",
    "                           workspace = ws)\n",
    "    \n",
    "    print(model.name, model.description, model.version, model.tags, sep = '\\t')"
   ]
  },
  {
   "cell_type": "markdown",
   "metadata": {},
   "source": [
    "You can explore the registered models within your workspace and query by tag. Models are versioned. If you call the register_model command many times with same model name, you will get multiple versions of the model with increasing version numbers.   \n",
    "For demo purposes, we choose v1 as the model used for deployment."
   ]
  },
  {
   "cell_type": "code",
   "execution_count": null,
   "metadata": {},
   "outputs": [],
   "source": [
    "best_r_model = None\n",
    "\n",
    "for m in Model.list(ws, tags={'type': 'TC_kSVM'}):\n",
    "    print(\"Name:\", m.name,\"\\tVersion:\", m.version, \"\\tDescription:\", m.description, m.tags)\n",
    "    if ((m.name==prj_consts.R_MODEL_AML_NAME) and (m.version==version_of_model_to_deploy) and (m.description=='my R model')):\n",
    "        best_r_model = m\n",
    "\n",
    "print(best_r_model.name, best_r_model.description, best_r_model.version, sep = '\\t')"
   ]
  },
  {
   "cell_type": "markdown",
   "metadata": {},
   "source": [
    "\n",
    "#### Print content of operationalization image directory:\n",
    " - scoring script (o16n pyth0n script that embeds the user provided R scoring script) \n",
    " - R and python package dependencies decribed in conda environment .yml file \n",
    " - R model file is not necessary in this case, as we will first register it via Azure AML Model Management and thus access it in the cloud"
   ]
  },
  {
   "cell_type": "code",
   "execution_count": null,
   "metadata": {},
   "outputs": [],
   "source": [
    "ls_l(os.path.join(os.getcwd(), os.path.join(experiment_dir)))"
   ]
  },
  {
   "cell_type": "markdown",
   "metadata": {},
   "source": [
    "#### Print content of conda_dependencies yml file"
   ]
  },
  {
   "cell_type": "code",
   "execution_count": null,
   "metadata": {},
   "outputs": [],
   "source": [
    "! cat {os.path.join(os.getcwd(), os.path.join(*[experiment_dir, prj_consts.R_MODEL_CONDA_DEPENDENCIES_FILE_NAME]))}"
   ]
  },
  {
   "cell_type": "markdown",
   "metadata": {},
   "source": [
    "## Create o16n image, using registered model"
   ]
  },
  {
   "cell_type": "code",
   "execution_count": null,
   "metadata": {},
   "outputs": [],
   "source": [
    "image_tags = {'area': \"R models o16n\", 'type': \"regular ML\"}\n",
    "if not Image.list(workspace = ws,tags = image_tags):\n",
    "    crt_dir = os.getcwd()\n",
    "    os.chdir(os.path.join(os.getcwd(), os.path.join(*[experiment_dir])))\n",
    "\n",
    "\n",
    "    image_config = ContainerImage.image_configuration(runtime= \"python\",\n",
    "                                     execution_script=prj_consts.SCORE_SCRIPT_FILE_NAME,\n",
    "                                     conda_file=prj_consts.R_MODEL_CONDA_DEPENDENCIES_FILE_NAME,\n",
    "                                     tags = image_tags,\n",
    "                                     description = \"Image with kSVM R model o16n-ed via rpy2\")\n",
    "\n",
    "    image = Image.create(name = prj_consts.o16n_DOCKER_IMAGE_NAME,\n",
    "                         # this is the model object \n",
    "                         models = [best_r_model],\n",
    "                         image_config = image_config, \n",
    "                         workspace = ws)\n",
    "\n",
    "    image.wait_for_creation(show_output = True)\n",
    "    os.chdir(crt_dir)"
   ]
  },
  {
   "cell_type": "markdown",
   "metadata": {},
   "source": [
    "List images built so far"
   ]
  },
  {
   "cell_type": "code",
   "execution_count": null,
   "metadata": {},
   "outputs": [],
   "source": [
    "image_to_deploy= None\n",
    "for i in Image.list(workspace = ws,tags = image_tags):\n",
    "    print('{}(v.{} [{}]) stored at {} with build log {}'.format(i.name, \n",
    "                                                                i.version, \n",
    "                                                                i.creation_state, \n",
    "                                                                i.image_location, \n",
    "                                                                i.image_build_log_uri))\n",
    "    if ((i.name==prj_consts.o16n_DOCKER_IMAGE_NAME) and (i.version==version_of_image_to_deploy)):\n",
    "        image_to_deploy = i\n",
    "\n",
    "print('image_to_deploy:')\n",
    "print(image_to_deploy.name, image_to_deploy.version, image_to_deploy.image_location, sep = '\\t')"
   ]
  },
  {
   "cell_type": "markdown",
   "metadata": {},
   "source": [
    "## Deploy image as web service on Azure Container Instance\n",
    "\n",
    "Note that the service creation can take few minutes."
   ]
  },
  {
   "cell_type": "code",
   "execution_count": null,
   "metadata": {},
   "outputs": [],
   "source": [
    "from azureml.core.webservice import AciWebservice\n",
    "aciconfig = AciWebservice.deploy_configuration(cpu_cores = 1, \n",
    "                                               memory_gb = 1, \n",
    "                                               tags = {'area': \"R models o16n\"}, \n",
    "                                               description = 'demo R SVM model in AML ACI')"
   ]
  },
  {
   "cell_type": "markdown",
   "metadata": {},
   "source": [
    "#### List all web services in the workspace"
   ]
  },
  {
   "cell_type": "code",
   "execution_count": null,
   "metadata": {},
   "outputs": [],
   "source": [
    "from azureml.core.webservice import Webservice \n",
    "\n",
    "print('name, state, created_time, compute_type, description, scoring_uri, scoring_uri, image_id, image')\n",
    "for crt_webservice in Webservice.list(workspace = ws):\n",
    "    print('{}, {}, {}, {}, {}, {}, {}, {}'.format(crt_webservice.name,\n",
    "                                                  crt_webservice.state,\n",
    "                                                  crt_webservice.created_time,\n",
    "                                                  crt_webservice.compute_type,\n",
    "                                                  crt_webservice.description,\n",
    "                                                  crt_webservice.scoring_uri,\n",
    "                                                  crt_webservice.image_id,\n",
    "                                                  crt_webservice.image.name))\n"
   ]
  },
  {
   "cell_type": "code",
   "execution_count": null,
   "metadata": {},
   "outputs": [],
   "source": [
    "from azureml.exceptions import WebserviceException\n",
    "\n",
    "try:\n",
    "    aci_service = Webservice.deploy_from_image(deployment_config = aciconfig,\n",
    "                                           image = image_to_deploy,\n",
    "                                           name = aci_service_name,\n",
    "                                           workspace = ws)\n",
    "    aci_service.wait_for_deployment(True)\n",
    "    print(aci_service.state)\n",
    "except WebserviceException:\n",
    "    print('There is already a service with name {} found in workspace {}. Will use it, and not create another one!'\\\n",
    "          .format(aci_service_name, ws.name))\n",
    "    aci_service = Webservice(workspace = ws, name = aci_service_name)"
   ]
  },
  {
   "cell_type": "markdown",
   "metadata": {},
   "source": [
    "### Test web service\n",
    "Call the web service with some dummy input data to get a prediction."
   ]
  },
  {
   "cell_type": "code",
   "execution_count": null,
   "metadata": {},
   "outputs": [],
   "source": [
    "import numpy as np\n",
    "import json\n",
    "import pandas as pd"
   ]
  },
  {
   "cell_type": "code",
   "execution_count": null,
   "metadata": {},
   "outputs": [],
   "source": [
    "n_samples = 1000\n",
    "\n",
    "raw_data = 2 * np.random.random_sample((n_samples, 2)) - 1\n",
    "if n_samples<10:\n",
    "    raw_data\n",
    "\n",
    "aml_jsoned_data =  json.dumps({'data': json.dumps(raw_data.tolist())})\n",
    "response = aci_service.run(input_data = aml_jsoned_data)\n",
    "\n",
    "if n_samples<10:\n",
    "    print( pd.DataFrame.from_records(json.loads(json.loads(response)['python_scores'])['r_scores']) )\n",
    "\n",
    "print( pd.DataFrame.from_records(json.loads(json.loads(response)['python_scores'])['r_times']) )\n",
    "for k, v in json.loads(json.loads(response)['python_times']).items():\n",
    "    print(v, k)"
   ]
  },
  {
   "cell_type": "code",
   "execution_count": null,
   "metadata": {},
   "outputs": [],
   "source": [
    "pd.DataFrame.from_records(json.loads(json.loads(response)['python_scores'])['r_times'])\n",
    "pd.DataFrame.from_records(json.loads(json.loads(response)['python_scores'])['r_times']).iloc[0,1]\n",
    "\n",
    "json.loads(json.loads(response)['python_times'])\n",
    "json.loads(json.loads(response)['python_times'])['all_p_time']\n",
    "\n",
    "def rpy_times_report(r_times_dataframe, python_times_dict):\n",
    "    python_time_number, python_time_unit = python_times_dict['all_p_time'].split()\n",
    "    r_time_number = r_times_dataframe.iloc[0,1]\n",
    "\n",
    "    for crt_key, crt_value in \\\n",
    "    {'rpy overhead summary':'',\n",
    "     'r_processing time':'{} ms'.format(round(float(r_time_number)), 2),\n",
    "     'python_processing time':'{} ms'.format(round(float(python_time_number)), 2),\n",
    "     'rpy overhead':'{} %'.format(round(((float(python_time_number)-float(r_time_number))/float(r_time_number))*100, 2))}.items():\n",
    "        print(crt_key, '\\t',crt_value)  \n",
    "\n",
    "rpy_times_report(pd.DataFrame.from_records(json.loads(json.loads(response)['python_scores'])['r_times']),\n",
    "                json.loads(json.loads(response)['python_times']))"
   ]
  },
  {
   "cell_type": "code",
   "execution_count": null,
   "metadata": {},
   "outputs": [],
   "source": [
    "import timeit\n",
    "\n",
    "time_test_results = list()\n",
    "time_test_data_sizes = (1e1, 1e1, 1e3, 1e3, 1e5, 1e5, 3e5, 3e5)\n",
    "time_test_data_sizes = (1e1, 1e1, 1e3, 1e3, 1e5, 1e5)\n",
    "\n",
    "def test_service(data_size, scoring_service):\n",
    "    start_time = timeit.default_timer()\n",
    "\n",
    "    raw_data = 2 * np.random.random_sample((data_size, 2)) - 1\n",
    "    aml_jsoned_data =  json.dumps({'data': json.dumps(raw_data.tolist())})\n",
    "    print('\\n data_size: {} rows, jsoned data is {} chars long'.format(data_size, len(aml_jsoned_data)))\n",
    "    \n",
    "    start_service_time = timeit.default_timer()\n",
    "    response = scoring_service.run(input_data = aml_jsoned_data)\n",
    "    return_service_time = timeit.default_timer()\n",
    "    \n",
    "    print( pd.DataFrame.from_records(json.loads(json.loads(response)['python_scores'])['r_times']) )\n",
    "    \n",
    "    for k, v in json.loads(json.loads(response)['python_times']).items():\n",
    "        print(v, k)\n",
    "    \n",
    "    end_time = timeit.default_timer()\n",
    "    for crt_key, crt_value in \\\n",
    "    {'e2e_time':'{} ms'.format(round((end_time-start_time)*1000, 2)),\n",
    "          'service_time':'{} ms'.format(round((return_service_time-start_service_time)*1000, 2)),\n",
    "          'data_generation_time':'{} ms'.format(round((start_service_time-start_time)*1000, 2)),\n",
    "          'response_print_time':'{} ms'.format(round((end_time-return_service_time)*1000, 2))}.items():\n",
    "        print(crt_key, ': ',crt_value)\n",
    "    \n",
    "    rpy_times_report(pd.DataFrame.from_records(json.loads(json.loads(response)['python_scores'])['r_times']),\n",
    "                json.loads(json.loads(response)['python_times']))\n",
    "    \n",
    "# aci proper testing moved near aks testing, below"
   ]
  },
  {
   "cell_type": "code",
   "execution_count": null,
   "metadata": {},
   "outputs": [],
   "source": [
    "# aci_service.delete()"
   ]
  },
  {
   "cell_type": "markdown",
   "metadata": {},
   "source": [
    "### Provision the AKS Cluster\n",
    "This is a one time setup. You can reuse this cluster for multiple deployments after it has been created. If you delete the cluster or the resource group that contains it, then you would have to recreate it."
   ]
  },
  {
   "cell_type": "code",
   "execution_count": null,
   "metadata": {},
   "outputs": [],
   "source": [
    "from azureml.core.compute import AksCompute, ComputeTarget\n",
    "from azureml.core.webservice import Webservice, AksWebservice\n",
    "# Use the default configuration (can also provide parameters to customize)\n",
    "prov_config = AksCompute.provisioning_configuration()\n"
   ]
  },
  {
   "cell_type": "code",
   "execution_count": null,
   "metadata": {},
   "outputs": [],
   "source": [
    "for crt_compute_target in ComputeTarget.list(workspace = ws):\n",
    "    print(crt_compute_target.name)\n",
    "#     print(crt_compute_target.cluster_resource_id)\n",
    "    print(crt_compute_target.type)\n",
    "    print(crt_compute_target.description)\n",
    "    print(crt_compute_target.get_status())"
   ]
  },
  {
   "cell_type": "code",
   "execution_count": null,
   "metadata": {},
   "outputs": [],
   "source": [
    "# !az aks get-credentials -n r-aks-clst03f0d01421a14ff1 -g $project_new_rsg -a -f r-aks-clst03.txt"
   ]
  },
  {
   "cell_type": "code",
   "execution_count": null,
   "metadata": {},
   "outputs": [],
   "source": [
    "aks_cluster_name = 'ro16n-aks-001'\n",
    "\n",
    "# Create the AKS cluster. Existing clusters will be reused\n",
    "aks_target = ComputeTarget.create(workspace = ws, \n",
    "                                  name = aks_cluster_name, \n",
    "                                  provisioning_configuration = prov_config)"
   ]
  },
  {
   "cell_type": "code",
   "execution_count": null,
   "metadata": {},
   "outputs": [],
   "source": [
    "%%time\n",
    "aks_cluster_name\n",
    "aks_target.wait_for_completion(show_output = True)\n",
    "print(aks_target.provisioning_state)\n",
    "print(aks_target.provisioning_errors)"
   ]
  },
  {
   "cell_type": "code",
   "execution_count": null,
   "metadata": {},
   "outputs": [],
   "source": [
    "resource_id = aks_target.cluster_resource_id"
   ]
  },
  {
   "cell_type": "markdown",
   "metadata": {},
   "source": [
    "### Optional step: Attach existing AKS cluster\n",
    "If you have existing AKS cluster in your Azure subscription, you can attach it to the Workspace."
   ]
  },
  {
   "cell_type": "code",
   "execution_count": null,
   "metadata": {},
   "outputs": [],
   "source": [
    "%%time\n",
    "# Use the default configuration (can also provide parameters to customize)\n",
    "\n",
    "attach_cluster = False\n",
    "if (attach_cluster):\n",
    "    # attach existing  cluster\n",
    "    \n",
    "    attach_config = AksCompute.attach_configuration(resource_id=resource_id)\n",
    "    aks_target = ComputeTarget.attach(workspace=ws, name=aks_cluster_name, attach_configuration=attach_config)\n",
    "    # Wait for the operation to complete\n",
    "    aks_target.wait_for_completion(True)"
   ]
  },
  {
   "cell_type": "markdown",
   "metadata": {},
   "source": [
    "### Deploy web service to AKS"
   ]
  },
  {
   "cell_type": "code",
   "execution_count": null,
   "metadata": {},
   "outputs": [],
   "source": [
    "#Set the web service configuration (using default here)\n",
    "aks_config = AksWebservice.deploy_configuration()"
   ]
  },
  {
   "cell_type": "code",
   "execution_count": null,
   "metadata": {},
   "outputs": [],
   "source": [
    "%%time\n",
    "\n",
    "from azureml.exceptions import WebserviceException\n",
    "try:\n",
    "    aks_service = Webservice.deploy_from_image(workspace = ws, \n",
    "                                               name = aks_service_name,\n",
    "                                               image = image_to_deploy,\n",
    "                                               deployment_config = aks_config,\n",
    "                                               deployment_target = aks_target)\n",
    "    aks_service.wait_for_deployment(show_output = True)\n",
    "    print(aks_service.state)\n",
    "except WebserviceException:\n",
    "    print('WebserviceException: There is already a service with name {} found in workspace {}. Will use it, and not create another one!'\\\n",
    "          .format(aks_service_name, ws.name))"
   ]
  },
  {
   "cell_type": "code",
   "execution_count": null,
   "metadata": {},
   "outputs": [],
   "source": [
    "# list all web services in the workspace\n",
    "for s in ws.webservices:\n",
    "    print(s)\n",
    "\n",
    "aks_service = Webservice(workspace = ws, name = aks_service_name)"
   ]
  },
  {
   "cell_type": "code",
   "execution_count": null,
   "metadata": {},
   "outputs": [],
   "source": [
    "# aks_service.get_logs()"
   ]
  },
  {
   "cell_type": "code",
   "execution_count": null,
   "metadata": {},
   "outputs": [],
   "source": [
    "time_test_data_sizes = (1e1, 1e1, 1e3, 1e3, 1e5, 1e5)\n",
    "for time_test_data_size in time_test_data_sizes:\n",
    "    test_service(int(time_test_data_size), aci_service)"
   ]
  },
  {
   "cell_type": "code",
   "execution_count": null,
   "metadata": {},
   "outputs": [],
   "source": [
    "for time_test_data_size in time_test_data_sizes:\n",
    "    test_service(int(time_test_data_size), aks_service)"
   ]
  },
  {
   "cell_type": "code",
   "execution_count": null,
   "metadata": {},
   "outputs": [],
   "source": [
    "# # # Clean-up\n",
    "# aci_service.delete()\n",
    "# aks_service.delete()"
   ]
  },
  {
   "cell_type": "code",
   "execution_count": null,
   "metadata": {},
   "outputs": [],
   "source": [
    "!jupyter nbconvert --to html  020_RegularR_RealTime_deploy_ACI_AKS.ipynb"
   ]
  },
  {
   "cell_type": "code",
   "execution_count": null,
   "metadata": {},
   "outputs": [],
   "source": [
    "print('Finished running 020_RegularR_RealTime_deploy_ACI_AKS.ipynb!')"
   ]
  }
 ],
 "metadata": {
  "kernelspec": {
   "display_name": "Python 3",
   "language": "python",
   "name": "python3"
  },
  "language_info": {
   "codemirror_mode": {
    "name": "ipython",
    "version": 3
   },
   "file_extension": ".py",
   "mimetype": "text/x-python",
   "name": "python",
   "nbconvert_exporter": "python",
   "pygments_lexer": "ipython3",
   "version": "3.6.8"
  }
 },
 "nbformat": 4,
 "nbformat_minor": 2
}
